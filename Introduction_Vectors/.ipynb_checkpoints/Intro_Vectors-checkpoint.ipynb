{
 "cells": [
  {
   "cell_type": "markdown",
   "id": "64e4074d",
   "metadata": {},
   "source": [
    "1. Let $\\textbf{u} = (1, -2, 4)$ and $\\textbf{v} = (3,5,1)$ $\\textbf{w} = (2,1,-3)$ find:<br>\n",
    "Answered Below\n",
    "<br>\n",
    "<br>\n",
    "2. Repeat problem 1 with the following column vectors:\n",
    "\\begin{align}\n",
    "    \\textbf{u} &= \\begin{bmatrix}\n",
    "           1 \\\\\n",
    "           3 \\\\\n",
    "           -4\n",
    "         \\end{bmatrix}, \\textbf{v} = \\begin{bmatrix}\n",
    "           2 \\\\\n",
    "           1 \\\\\n",
    "           5\n",
    "         \\end{bmatrix}, \\textbf{w} = \\begin{bmatrix}\n",
    "           3 \\\\\n",
    "           -2 \\\\\n",
    "           6\n",
    "         \\end{bmatrix}\n",
    "  \\end{align}\n",
    "<br>\n",
    "<br>\n",
    "<br>\n",
    "3. Let $\\textbf{u} = (2,-5,4,6,-3)$, $\\textbf{v} = (5,-2,1,-7,-4)$, and $\\textbf{w} = (2,1,-3)$ find:<br>\n",
    "a. $4\\textbf{u}-3\\textbf{v}$<br>\n",
    "b. $5\\textbf{u}+2\\textbf{v}-2\\textbf{w}$<br>\n",
    "c. $\\textbf{u} \\cdotp \\textbf{v}$,$\\textbf{v} \\cdotp \\textbf{w}$, $\\textbf{u} \\cdotp \\textbf{w}$<br>\n",
    "d. ||$\\textbf{u}$||, ||$\\textbf{v}$||, ||$\\textbf{w}$||<br>\n",
    "e. If $\\theta$ is the angle between $\\textbf{u}$  and   $\\textbf{v}$, find $\\cos{\\theta}$.<br>\n",
    "f. If $\\alpha$ is the angle between $\\textbf{v}$  and   $\\textbf{w}$, find $\\cos{\\alpha}$.<br>\n",
    "g. If $\\beta$ is the angle between $\\textbf{u}$  and   $\\textbf{w}$, find $\\cos{\\beta}$.<br>\n",
    "h. Find $d(\\textbf{u},\\textbf{v})$.<br>\n",
    "i. Find $d(\\textbf{w},\\textbf{v})$.<br>\n",
    "j. Find $d(\\textbf{u},\\textbf{w})$. <br>\n",
    "k. Find $proj(\\textbf{u},\\textbf{v})$.<br>\n",
    "l. Find $proj(\\textbf{w},\\textbf{v})$.<br>\n",
    "m. Find $proj(\\textbf{u},\\textbf{w})$. <br> \n",
    "<br>\n",
    "<br>\n",
    "4. Normalize each vector:<br>\n",
    "a. $\\textbf{u}$ = (5,-7).<br>\n",
    "b. $\\textbf{v}$ = (1,2,-2,4).<br>\n",
    "c. $\\textbf{w} = (\\frac{1}{2},\\frac{-1}{3},\\frac{3}{4})$.<br>\n",
    "<br>\n",
    "<br>\n",
    "5. Let $\\textbf{u} = (1,2,-2)$,$\\textbf{v} = (3,-12,4)$ and a scalar $k = -3$: <br>\n",
    "Find $||u||, ||v||, ||u+v||, ||ku||$.<br>\n",
    "<br>\n",
    "<br>\n",
    "6. Find k so that $\\textbf{u}  \\ and \\  \\textbf{v}$ are orthogonal.\n",
    "a. $\\textbf{u} = (3, k, -2), \\textbf{v} = (6, -4, -3)$.<br>\n",
    "b. $\\textbf{u} = (5,k,-4,2), \\textbf{v} = (1,-3,2,2k)$.<br>\n",
    "c. $\\textbf{u} = (1,7,k+2,-2), \\textbf{v} = (3, k, -3,k)$.<br>"
   ]
  },
  {
   "cell_type": "markdown",
   "id": "275d599b",
   "metadata": {},
   "source": [
    "1. Let $\\textbf{u} = (1, -2, 4)$ and $\\textbf{v} = (3,5,1)$ $\\textbf{w} = (2,1,-3)$ find:<br>\n",
    "a. $3\\textbf{u}-2\\textbf{v}$<br>"
   ]
  },
  {
   "cell_type": "markdown",
   "id": "180e9a6d",
   "metadata": {},
   "source": [
    "**1.a. Answer**\n",
    "$$\n",
    "\\begin{align}\n",
    "    3\\textbf{u} - 2\\textbf{v} &= (3(1), 3(-2), 3(4)) &- (2(3), 2(5), 2(1)) \\\\\n",
    "        &= (3,-6, 12) &- (6, 10, 2) \\\\\n",
    "        &&= (-3, -16, 10)\n",
    "\\end{align}\n",
    "$$\n"
   ]
  },
  {
   "cell_type": "code",
   "execution_count": 39,
   "id": "92e1ce7a",
   "metadata": {},
   "outputs": [
    {
     "name": "stdout",
     "output_type": "stream",
     "text": [
      "3(1), 3(-2), 3(4) [ 3 -6 12]\n",
      "2(3), 2(5), 2(1) [ 6 10  2]\n",
      "Answer: [ -3 -16  10]\n"
     ]
    }
   ],
   "source": [
    "import numpy as np\n",
    "u = np.array([1,-2,4])\n",
    "v = np.array([3,5,1])\n",
    "print(\"3(1), 3(-2), 3(4)\",u*3)\n",
    "print(\"2(3), 2(5), 2(1)\",v*2)\n",
    "print(\"Answer:\",u*3 - v*2)"
   ]
  },
  {
   "cell_type": "markdown",
   "id": "b3a8d161",
   "metadata": {},
   "source": [
    "1.b. $5\\textbf{u}+3\\textbf{v}-4\\textbf{w}$<br>"
   ]
  },
  {
   "cell_type": "markdown",
   "id": "b4d90df8",
   "metadata": {},
   "source": [
    "\n",
    "$$\n",
    "\\begin{align}\n",
    "    5\\textbf{u} + 3\\textbf{v} - 4\\textbf{w} &= (5(1), 5(-2), 5(4)) + (3(3), 3(5), 3(1)) - (4(2), 4(1), 4(-3)) \\\\\n",
    "        &= (5, -10, 20) + (9, 15, 3) - (8, 4, -12) \\\\\n",
    "        &= (6, 1, 35)\n",
    "\\end{align}\n",
    "$$"
   ]
  },
  {
   "cell_type": "code",
   "execution_count": 4,
   "id": "6dc9a801",
   "metadata": {},
   "outputs": [
    {
     "name": "stdout",
     "output_type": "stream",
     "text": [
      "5(1),5(−2),5(4) [  5 -10  20]\n",
      "3(3),3(5),3(1) [ 9 15  3]\n",
      "4(2),4(1),4(−3) [  8   4 -12]\n",
      "u + v - w\n",
      "ANSWER: [ 6  1 35]\n"
     ]
    }
   ],
   "source": [
    "import numpy as np\n",
    "u = np.array([1,-2,4])\n",
    "v = np.array([3,5,1])\n",
    "w = np.array([2,1,-3])\n",
    "print(\"5(1),5(−2),5(4)\", u*5)\n",
    "print(\"3(3),3(5),3(1)\", v*3)\n",
    "print(\"4(2),4(1),4(−3)\", w*4)\n",
    "print(\"u + v - w\")\n",
    "print(\"ANSWER:\", u*5+v*3-w*4)"
   ]
  },
  {
   "cell_type": "markdown",
   "id": "c5f1d7a9",
   "metadata": {},
   "source": [
    "1.c. $\\textbf{u} \\cdotp \\textbf{v}$,$\\textbf{v} \\cdotp \\textbf{w}$, $\\textbf{u} \\cdotp \\textbf{w}$<br>\n",
    "Let $\\textbf{u} = (1, -2, 4)$ and $\\textbf{v} = (3,5,1)$ $\\textbf{w} = (2,1,-3)$ find:<br>\n",
    "$$\n",
    "   \\begin{align*}\n",
    "       \\mathbf{u} \\cdot \\mathbf{v} &= (1)(3) + (-2)(5) + (4)(1) \\\\\n",
    "       &= 3 - 10 + 4 \\\\\n",
    "       &= -3\n",
    "   \\end{align*}\n",
    " $$\n",
    "\n",
    "$$\n",
    "   \\begin{align*}\n",
    "       \\mathbf{v} \\cdot \\mathbf{w} &= (3)(2) + (5)(1) + (1)(-3) \\\\\n",
    "       &= 6 + 5 - 3 \\\\\n",
    "       &= 8\n",
    "   \\end{align*}\n",
    "$$\n",
    "$$\n",
    "   \\begin{align*}\n",
    "       \\mathbf{u} \\cdot \\mathbf{w} &= (1)(2) + (-2)(1) + (4)(-3) \\\\\n",
    "       &= 2 - 2 - 12 \\\\\n",
    "       &= -12\n",
    "   \\end{align*}\n",
    "$$"
   ]
  },
  {
   "cell_type": "code",
   "execution_count": 5,
   "id": "fd8fca16",
   "metadata": {},
   "outputs": [
    {
     "name": "stdout",
     "output_type": "stream",
     "text": [
      "u dot v = -3\n",
      "v dot w = 8\n",
      "u dot w = -12\n"
     ]
    }
   ],
   "source": [
    "import numpy as np\n",
    "u = np.array([1,-2,4])\n",
    "v = np.array([3,5,1])\n",
    "w = np.array([2,1,-3])\n",
    "\n",
    "uvdot = np.dot(u, v)\n",
    "vwdot = np.dot(v, w)\n",
    "uwdot = np.dot(u, w)\n",
    "\n",
    "print(\"u dot v =\", uvdot)\n",
    "print(\"v dot w =\", vwdot)\n",
    "print(\"u dot w =\", uwdot)"
   ]
  },
  {
   "cell_type": "markdown",
   "id": "254c43fc",
   "metadata": {},
   "source": [
    "d. ||$\\textbf{u}||, ||$\\textbf{v}||, ||$\\textbf{w}$||<br>"
   ]
  },
  {
   "cell_type": "markdown",
   "id": "31c82fe7",
   "metadata": {},
   "source": [
    "$$\\begin{align*}\n",
    " \\|\\mathbf{u}\\| &= \\sqrt{1^2 + (-2)^2 + 4^2} \\\\\n",
    "    &= \\sqrt{1 + 4 + 16} \\\\\n",
    "    &= \\sqrt{21}\\\\\n",
    "  \\|\\mathbf{v}\\| &= \\sqrt{3^2 + 5^2 + 1^2} \\\\\n",
    "    &= \\sqrt{9 + 25 + 1} \\\\\n",
    "    &= \\sqrt{35}\\\\\n",
    "  \\|\\mathbf{w}\\| &= \\sqrt{2^2 + 1^2 + (-3)^2} \\\\\n",
    "    &= \\sqrt{4 + 1 + 9} \\\\\n",
    "    &= \\sqrt{14}\n",
    "    \\end{align*}\n",
    "$$"
   ]
  },
  {
   "cell_type": "code",
   "execution_count": 13,
   "id": "abe9c77a",
   "metadata": {},
   "outputs": [
    {
     "name": "stdout",
     "output_type": "stream",
     "text": [
      "||u|| = 4.58257569495584\n",
      "||v|| = 5.916079783099616\n",
      "||w|| = 3.7416573867739413\n"
     ]
    }
   ],
   "source": [
    "import numpy as np\n",
    "u = np.array([1, -2, 4])\n",
    "v = np.array([3, 5, 1])\n",
    "w = np.array([2, 1, -3])\n",
    "normU = np.linalg.norm(u)\n",
    "normV = np.linalg.norm(v)\n",
    "normW = np.linalg.norm(w)\n",
    "print(\"||u|| =\", normU)\n",
    "print(\"||v|| =\", normV)\n",
    "print(\"||w|| =\", normW)"
   ]
  },
  {
   "cell_type": "markdown",
   "id": "9b1c4af1",
   "metadata": {},
   "source": [
    "e. If $\\theta$ is the angle between $\\textbf{u}$  and   $\\textbf{v}$, find $\\cos{\\theta}$.<br>\n",
    "\n"
   ]
  },
  {
   "cell_type": "markdown",
   "id": "82e76261",
   "metadata": {},
   "source": [
    "**E, the latex had a stroke**\n",
    "$$\n",
    "\\begin{array}\n",
    "        &= \\frac{(1)(3) + (-2)(5) + (4)(1)}{\\sqrt{1^2 + (-2)^2 + 4^2} \\sqrt{3^2 + 5^2 + 1^2}} \n",
    "        &= \\frac{3 - 10 + 4}{\\sqrt{1 + 4 + 16} \\sqrt{9 + 25 + 1}} \n",
    "        &= -\\frac{3}{\\sqrt{21} \\sqrt{35}}\n",
    "\\end{array}\n",
    "$$\n",
    "\n",
    "\n"
   ]
  },
  {
   "cell_type": "code",
   "execution_count": 1,
   "id": "3ef37f92",
   "metadata": {},
   "outputs": [
    {
     "name": "stdout",
     "output_type": "stream",
     "text": [
      "-0.11065666703449763\n"
     ]
    }
   ],
   "source": [
    "import numpy as np\n",
    "u = np.array([1, -2, 4])\n",
    "v = np.array([3, 5, 1])\n",
    "dotProd = np.dot(u, v)\n",
    "normU = np.linalg.norm(u)\n",
    "normV = np.linalg.norm(v)\n",
    "res = dotProd / (normU * normV)\n",
    "print(res)"
   ]
  },
  {
   "cell_type": "markdown",
   "id": "c178a063",
   "metadata": {},
   "source": [
    "**f**\n",
    "$$\n",
    "\\begin{align}\n",
    "        &= \\frac{(3)(2) + (5)(1) + (1)(-3)}{\\sqrt{3^2 + 5^2 + 1^2}\\sqrt{2^2 + 1^2 + (-3)^2}}\n",
    "        &= \\frac{6 + 5 - 3}{\\sqrt{9 + 25 + 1}\\sqrt{4 + 1 + 9}} \n",
    "        &= \\frac{8}{\\sqrt{35}\\sqrt{14}}\n",
    "\\end{align}\n",
    "$$"
   ]
  },
  {
   "cell_type": "markdown",
   "id": "7414f812",
   "metadata": {},
   "source": [
    "If $\\alpha$ is the angle between $\\textbf{v}$  and   $\\textbf{w}$, find $\\cos{\\alpha}$.<br>"
   ]
  },
  {
   "cell_type": "code",
   "execution_count": 16,
   "id": "b885475b",
   "metadata": {},
   "outputs": [
    {
     "name": "stdout",
     "output_type": "stream",
     "text": [
      "0.36140316116210053\n"
     ]
    }
   ],
   "source": [
    "import numpy as np\n",
    "u = np.array([1, -2, 4])\n",
    "v = np.array([3, 5, 1])\n",
    "w = np.array([2, 1, -3])\n",
    "dotProd = np.dot(v, w)\n",
    "normV = np.linalg.norm(v)\n",
    "normW = np.linalg.norm(w)\n",
    "res = dotProd/(normV * normW)\n",
    "print(res)"
   ]
  },
  {
   "cell_type": "markdown",
   "id": "61be6b75",
   "metadata": {},
   "source": [
    "g. If $\\beta$ is the angle between $\\textbf{u}$  and   $\\textbf{w}$, find $\\cos{\\beta}$.<br>\n",
    "$$\n",
    "\\begin{array}\n",
    "        &= \\frac{(1)(2) + (-2)(1) + (4)(-3)}{\\sqrt{1^2 + (-2)^2 + 4^2}\\sqrt{2^2 + 1^2 + (-3)^2}} \n",
    "        &= \\frac{2 - 2 - 12}{\\sqrt{1 + 4 + 16}{4 + 1 + 9}} \n",
    "        &= -\\frac{12}{\\sqrt{21}\\sqrt{14}}\n",
    "\\end{array}\n",
    "$$"
   ]
  },
  {
   "cell_type": "code",
   "execution_count": 17,
   "id": "a0ac18b1",
   "metadata": {},
   "outputs": [
    {
     "name": "stdout",
     "output_type": "stream",
     "text": [
      "-0.6998542122237653\n"
     ]
    }
   ],
   "source": [
    "import numpy as np\n",
    "u = np.array([1, -2, 4])\n",
    "v = np.array([3, 5, 1])\n",
    "w = np.array([2, 1, -3])\n",
    "dotProd = np.dot(u, w)\n",
    "normU = np.linalg.norm(u)\n",
    "normW = np.linalg.norm(w)\n",
    "res = dotProd / (normU * normW)\n",
    "print(res)"
   ]
  },
  {
   "cell_type": "markdown",
   "id": "5b565bc9",
   "metadata": {},
   "source": [
    "h. Find $d(\\textbf{u},\\textbf{v})$.<br>\n",
    "$$\n",
    "\\begin{array}\n",
    "        &= \\sqrt{(1 - 3)^2 + (-2 - 5)^2 + (4 - 1)^2} \n",
    "        &= \\sqrt{(-2)^2 + (-7)^2 + (3)^2} \n",
    "        &= \\sqrt{4 + 49 + 9} \n",
    "        &= \\sqrt{62}\n",
    "\\end{array}\n",
    "$$"
   ]
  },
  {
   "cell_type": "code",
   "execution_count": 18,
   "id": "3c65c04e",
   "metadata": {},
   "outputs": [
    {
     "name": "stdout",
     "output_type": "stream",
     "text": [
      "7.874007874011811\n"
     ]
    }
   ],
   "source": [
    "import numpy as np\n",
    "u = np.array([1, -2, 4])\n",
    "v = np.array([3, 5, 1])\n",
    "w = np.array([2, 1, -3])\n",
    "diff=u-v\n",
    "distance = np.linalg.norm(diff)\n",
    "print(distance)"
   ]
  },
  {
   "cell_type": "markdown",
   "id": "d698ff0c",
   "metadata": {},
   "source": [
    "i. Find $d(\\textbf{w},\\textbf{v})$.<br>\n",
    "$$\n",
    "\\begin{array}\n",
    "        &= \\sqrt{(2 - 3)^2 + (1 - 5)^2 + (-3 - 1)^2} \n",
    "        &= \\sqrt{(-1)^2 + (-4)^2 + (-4)^2} \n",
    "        &= \\sqrt{1 + 16 + 16} \n",
    "        &= \\sqrt{33}\n",
    "\\end{array}\n",
    "$$"
   ]
  },
  {
   "cell_type": "code",
   "execution_count": 19,
   "id": "c1827b0f",
   "metadata": {},
   "outputs": [
    {
     "name": "stdout",
     "output_type": "stream",
     "text": [
      "5.744562646538029\n"
     ]
    }
   ],
   "source": [
    "import numpy as np\n",
    "u = np.array([1, -2, 4])\n",
    "v = np.array([3, 5, 1])\n",
    "w = np.array([2, 1, -3])\n",
    "diff=w-v\n",
    "distance = np.linalg.norm(diff)\n",
    "print(distance)"
   ]
  },
  {
   "cell_type": "markdown",
   "id": "865c582e",
   "metadata": {},
   "source": [
    "j. Find $d(\\textbf{u},\\textbf{w})$. <br>\n",
    "$$\n",
    "\\begin{array}\n",
    "        &= \\sqrt{(1 - 2)^2 + (-2 - 1)^2 + (4 - (-3))^2} \n",
    "        &= \\sqrt{(-1)^2 + (-3)^2 + (7)^2} \n",
    "        &= \\sqrt{1 + 9 + 49} \n",
    "        &= \\sqrt{59}\n",
    "\\end{array}\n",
    "$$"
   ]
  },
  {
   "cell_type": "code",
   "execution_count": 21,
   "id": "c8ccf922",
   "metadata": {
    "scrolled": true
   },
   "outputs": [
    {
     "name": "stdout",
     "output_type": "stream",
     "text": [
      "7.681145747868608\n"
     ]
    }
   ],
   "source": [
    "import numpy as np\n",
    "u = np.array([1, -2, 4])\n",
    "v = np.array([3, 5, 1])\n",
    "w = np.array([2, 1, -3])\n",
    "diff=u-w\n",
    "distance = np.linalg.norm(diff)\n",
    "print(distance)"
   ]
  },
  {
   "cell_type": "markdown",
   "id": "eb9faffa",
   "metadata": {},
   "source": [
    "k. find $proj(\\textbf{u},\\textbf{v})$"
   ]
  },
  {
   "cell_type": "code",
   "execution_count": 22,
   "id": "4a1d53dc",
   "metadata": {},
   "outputs": [
    {
     "name": "stdout",
     "output_type": "stream",
     "text": [
      "[-0.25714286 -0.42857143 -0.08571429]\n"
     ]
    }
   ],
   "source": [
    "import numpy as np\n",
    "u = np.array([1, -2, 4])\n",
    "v = np.array([3, 5, 1])\n",
    "w = np.array([2, 1, -3])\n",
    "dotProd = np.dot(u,v)\n",
    "normSqr=np.linalg.norm(v)**2\n",
    "proj=(dotProd/normSqr)*v\n",
    "print(proj)"
   ]
  },
  {
   "cell_type": "markdown",
   "id": "04faee6f",
   "metadata": {},
   "source": [
    "l. Find $proj(\\textbf{w},\\textbf{v})$.<br>\n",
    "$$\n",
    "\\begin{array}{}\n",
    "        &= \\frac{(2)(3) + (1)(5) + (-3)(1)}{\\sqrt{3^2 + 5^2 + 1^2}^2}(3, 5, 1) \n",
    "        &= \\frac{6 + 5 - 3}{\\sqrt{9 + 25 + 1}^2}(3, 5, 1) \n",
    "        &= \\frac{8}{\\sqrt{35}^2}(3, 5, 1) \n",
    "        &= \\frac{8}{35}(3, 5, 1) \n",
    "        \\quad \\quad&= (\\frac{24}{35},\\frac{8}{7},\\frac{8}{35})\n",
    "\\end{array}\n",
    "$$\n"
   ]
  },
  {
   "cell_type": "code",
   "execution_count": 23,
   "id": "c127ea04",
   "metadata": {},
   "outputs": [
    {
     "name": "stdout",
     "output_type": "stream",
     "text": [
      "[0.68571429 1.14285714 0.22857143]\n"
     ]
    }
   ],
   "source": [
    "import numpy as np\n",
    "u = np.array([1, -2, 4])\n",
    "v = np.array([3, 5, 1])\n",
    "w = np.array([2, 1, -3])\n",
    "dotProd = np.dot(w,v)\n",
    "normSqr=np.linalg.norm(v)**2\n",
    "proj=(dotProd/normSqr)*v\n",
    "print(proj)"
   ]
  },
  {
   "cell_type": "markdown",
   "id": "3f9d66b6",
   "metadata": {},
   "source": [
    "m. Find $proj(\\textbf{u},\\textbf{w})$. <br> "
   ]
  },
  {
   "cell_type": "code",
   "execution_count": 24,
   "id": "c72bce94",
   "metadata": {},
   "outputs": [
    {
     "name": "stdout",
     "output_type": "stream",
     "text": [
      "[-1.71428571 -0.85714286  2.57142857]\n"
     ]
    }
   ],
   "source": [
    "import numpy as np\n",
    "u = np.array([1, -2, 4])\n",
    "v = np.array([3, 5, 1])\n",
    "w = np.array([2, 1, -3])\n",
    "dotProd = np.dot(u,w)\n",
    "normSqr=np.linalg.norm(w)**2\n",
    "proj=(dotProd/normSqr)*w\n",
    "print(proj)"
   ]
  },
  {
   "cell_type": "markdown",
   "id": "2aaf4ac0",
   "metadata": {},
   "source": [
    "# ================================================="
   ]
  },
  {
   "cell_type": "markdown",
   "id": "59a64342",
   "metadata": {},
   "source": [
    "# 2."
   ]
  },
  {
   "cell_type": "markdown",
   "id": "c3546780",
   "metadata": {},
   "source": [
    "a. $3\\textbf{u}-2\\textbf{v}$<br>"
   ]
  },
  {
   "cell_type": "markdown",
   "id": "bceb71da",
   "metadata": {},
   "source": [
    "$$\n",
    "\\begin{align}\n",
    "        &= \\begin{bmatrix}\n",
    "                3(1) \\\\\n",
    "                3(3) \\\\\n",
    "                3(-4)\n",
    "            \\end{bmatrix} - \n",
    "            \\begin{bmatrix}\n",
    "                2(2) \\\\\n",
    "                2(1) \\\\\n",
    "                2(5)\n",
    "            \\end{bmatrix} \\\\\n",
    "        &= \\begin{bmatrix}\n",
    "                3 \\\\\n",
    "                9 \\\\\n",
    "                -12\n",
    "            \\end{bmatrix} - \n",
    "            \\begin{bmatrix}\n",
    "                4 \\\\\n",
    "                2 \\\\\n",
    "                10\n",
    "            \\end{bmatrix} \n",
    "            \\quad\n",
    "        &= \\begin{bmatrix}\n",
    "                -1 \\\\\n",
    "                7 \\\\\n",
    "                -22\n",
    "            \\end{bmatrix} \n",
    "\\end{align}\n",
    "$$\n"
   ]
  },
  {
   "cell_type": "code",
   "execution_count": 25,
   "id": "70ea51a0",
   "metadata": {},
   "outputs": [
    {
     "name": "stdout",
     "output_type": "stream",
     "text": [
      "[ -1   7 -22]\n"
     ]
    }
   ],
   "source": [
    "import numpy as np\n",
    "u = np.array([1, 3, -4])\n",
    "v = np.array([2, 1, 5])\n",
    "w = np.array([3,-2,6])\n",
    "print(3*u-2*v)"
   ]
  },
  {
   "cell_type": "markdown",
   "id": "93a3018b",
   "metadata": {},
   "source": [
    "b. $5\\textbf{u}+3\\textbf{v}-4\\textbf{w}$<br>"
   ]
  },
  {
   "cell_type": "markdown",
   "id": "3db17671",
   "metadata": {},
   "source": [
    "\n",
    "$$\n",
    "\\begin{align}\n",
    "        &= \\begin{bmatrix}\n",
    "                5(1)\\\\\n",
    "                5(3) \\\\\n",
    "                5(-4)\n",
    "            \\end{bmatrix} + \n",
    "            \\begin{bmatrix}\n",
    "                3(2) \\\\\n",
    "                3(1) \\\\\n",
    "                3(5)\n",
    "            \\end{bmatrix} -\n",
    "            \\begin{bmatrix}\n",
    "                4(3) \\\\\n",
    "                4(-2) \\\\\n",
    "                4(6)\n",
    "            \\end{bmatrix} \\\\\n",
    "        &= \\begin{bmatrix}\n",
    "                5 \\\\\n",
    "                15 \\\\\n",
    "                -20\n",
    "            \\end{bmatrix} + \n",
    "            \\begin{bmatrix}\n",
    "                6 \\\\\n",
    "                3 \\\\\n",
    "                15\n",
    "            \\end{bmatrix} -\n",
    "            \\begin{bmatrix}\n",
    "                12 \\\\\n",
    "                -8 \\\\\n",
    "                24\n",
    "            \\end{bmatrix} \n",
    "        &= \\begin{bmatrix}\n",
    "                -1 \\\\\n",
    "                26 \\\\\n",
    "                -29\n",
    "            \\end{bmatrix} \n",
    "\\end{align}\n",
    "$$"
   ]
  },
  {
   "cell_type": "code",
   "execution_count": 26,
   "id": "5d39634f",
   "metadata": {},
   "outputs": [
    {
     "name": "stdout",
     "output_type": "stream",
     "text": [
      "[ -1  26 -29]\n"
     ]
    }
   ],
   "source": [
    "import numpy as np\n",
    "u = np.array([1, 3, -4])\n",
    "v = np.array([2, 1, 5])\n",
    "w = np.array([3,-2,6])\n",
    "print(5*u+3*v-4*w)"
   ]
  },
  {
   "cell_type": "markdown",
   "id": "064a21d0",
   "metadata": {},
   "source": [
    "c. $\\textbf{u} \\cdotp \\textbf{v}$,$\\textbf{v} \\cdotp \\textbf{w}$, $\\textbf{u} \\cdotp \\textbf{w}$<br>\n",
    "\n",
    "$$\n",
    "\\begin{array}\\\\\n",
    "    \\textbf{u} \\cdotp \\textbf{v} &= (1)(2) + (3)(1) + (-4)(5) = 2 + 3 - 20 = -15 \\\\\n",
    "    \\textbf{v} \\cdotp \\textbf{w} &= (2)(3) + (1)(-2) + (5)(6) = 6 - 2 + 30 = 34 \\\\\n",
    "    \\textbf{u} \\cdotp \\textbf{w} &= (1)(3) + (3)(-2) + (-4)(6) = 3 - 6 - 24 = -27\n",
    "\\end{array}\n",
    "$$"
   ]
  },
  {
   "cell_type": "code",
   "execution_count": 27,
   "id": "eb9a67ac",
   "metadata": {},
   "outputs": [
    {
     "name": "stdout",
     "output_type": "stream",
     "text": [
      "-15\n",
      "34\n",
      "-27\n"
     ]
    }
   ],
   "source": [
    "import numpy as np\n",
    "u = np.array([1, 3, -4])\n",
    "v = np.array([2, 1, 5])\n",
    "w = np.array([3,-2,6])\n",
    "dotProdUV= np.dot(u,v)\n",
    "dotProdVW= np.dot(v,w)\n",
    "dotProdUW= np.dot(u,w)\n",
    "print(dotProdUV)\n",
    "print(dotProdVW)\n",
    "print(dotProdUW)"
   ]
  },
  {
   "cell_type": "markdown",
   "id": "9bd249a4",
   "metadata": {},
   "source": [
    "d. ||$\\textbf{u}||, ||$\\textbf{v}||, ||$\\textbf{w}$||<br>\n",
    "\n",
    "$$\n",
    "\\begin{align}\n",
    "    \\|\\textbf{u} \\| &= \\sqrt{1^2 + 3^2 + (-4)^2} = \\sqrt{1 + 9 + 16} = \\sqrt{26} \\\\\n",
    "     \\|\\textbf{v} \\| &= \\sqrt{2^2 + 1^2 + 5^2} = \\sqrt{4 + 1 + 25} = \\sqrt{30} \\\\\n",
    "     \\|\\textbf{w} \\| &= \\sqrt{3^2 + (-2)^2 + 6^2} = \\sqrt{9 + 4 + 36} = \\sqrt{49}\n",
    "\\end{align}\n",
    "$$"
   ]
  },
  {
   "cell_type": "code",
   "execution_count": 28,
   "id": "33cd6ee8",
   "metadata": {},
   "outputs": [
    {
     "name": "stdout",
     "output_type": "stream",
     "text": [
      "5.0990195135927845\n",
      "5.477225575051661\n",
      "7.0\n"
     ]
    }
   ],
   "source": [
    "import numpy as np\n",
    "u = np.array([1, 3, -4])\n",
    "v = np.array([2, 1, 5])\n",
    "w = np.array([3,-2,6])\n",
    "normU= np.linalg.norm(u)\n",
    "normV= np.linalg.norm(v)\n",
    "normW= np.linalg.norm(w)\n",
    "print(normU)\n",
    "print(normV)\n",
    "print(normW)"
   ]
  },
  {
   "cell_type": "markdown",
   "id": "e43448ad",
   "metadata": {},
   "source": [
    "e. If $\\theta$ is the angle between $\\textbf{u}$  and   $\\textbf{v}$, find $\\cos{\\theta}$.<br>\n",
    "\n",
    "$$\n",
    "\\begin{array}\n",
    "        &= \\frac{(1)(2) + (3)(1) + (-4)(5)}{\\sqrt{1^2 + 3^2 + (-4)^2}\\sqrt{2^2 + 1^2 + 5^2}} \n",
    "        &= \\frac{2 + 3 - 20}{\\sqrt{1 + 9 + 16}\\sqrt{4 + 1 + 25}} \n",
    "        &= -\\frac{15}{\\sqrt{26}\\sqrt{30}}\n",
    "\\end{array}\n",
    "$$"
   ]
  },
  {
   "cell_type": "code",
   "execution_count": 30,
   "id": "830f2377",
   "metadata": {
    "scrolled": true
   },
   "outputs": [
    {
     "name": "stdout",
     "output_type": "stream",
     "text": [
      "-0.5370861555295747\n"
     ]
    }
   ],
   "source": [
    "import numpy as np\n",
    "u = np.array([1, 3, -4])\n",
    "v = np.array([2, 1, 5])\n",
    "w = np.array([3,-2,6])\n",
    "prodUV = np.dot(u,v)\n",
    "normU= np.linalg.norm(u)\n",
    "normV= np.linalg.norm(v)\n",
    "res= prodUV/(normU*normV)\n",
    "print(res)"
   ]
  },
  {
   "cell_type": "markdown",
   "id": "350afc23",
   "metadata": {},
   "source": [
    "f. If $\\alpha$ is the angle between $\\textbf{v}$  and   $\\textbf{w}$, find $\\cos{\\alpha}$.<br>\n",
    "$$\n",
    "\\begin{array}\n",
    "        &= \\frac{(2)(3) + (1)(-2) + (5)(6)}{\\sqrt{2^2 + 1^2 + 5^2}\\sqrt{3^2 + (-2)^2 + 6^2}} \n",
    "        &= \\frac{6 - 2 + 30}{\\sqrt{4 + 1 + 25}\\sqrt{9 + 4 + 36}} \n",
    "        &= \\frac{34}{\\sqrt{30}\\sqrt{49}} \n",
    "        &= \\frac{34}{7\\sqrt{30}}\n",
    "\\end{array}\n",
    "$$"
   ]
  },
  {
   "cell_type": "code",
   "execution_count": 32,
   "id": "65eb6fd0",
   "metadata": {},
   "outputs": [
    {
     "name": "stdout",
     "output_type": "stream",
     "text": [
      "0.8867889026274118\n"
     ]
    }
   ],
   "source": [
    "import numpy as np\n",
    "u = np.array([1, 3, -4])\n",
    "v = np.array([2, 1, 5])\n",
    "w = np.array([3,-2,6])\n",
    "prodVW = np.dot(v,w)\n",
    "normV= np.linalg.norm(v)\n",
    "normW= np.linalg.norm(w)\n",
    "res=prodVW/(normV*normW)\n",
    "print(res)"
   ]
  },
  {
   "cell_type": "markdown",
   "id": "5235cb5c",
   "metadata": {},
   "source": [
    "g. If $\\beta$ is the angle between $\\textbf{u}$  and   $\\textbf{w}$, find $\\cos{\\beta}$.<br>\n",
    "$$\n",
    "\\begin{array}\n",
    "        &= \\frac{(1)(3) + (3)(-2) + (-4)(6)}{\\sqrt{1^2 + 3^2 + (-4)^2}\\sqrt{3^2 + (-2)^2 + 6^2}} \n",
    "        &= \\frac{3 - 6 - 24}{\\sqrt{1 + 9 + 16}{9 + 4 + 36}} \n",
    "        &= -\\frac{27}{\\sqrt{26}\\sqrt{49}} \n",
    "        &= -\\frac{27}{7\\sqrt{26}}\n",
    "\\end{array}\n",
    "$$"
   ]
  },
  {
   "cell_type": "code",
   "execution_count": 33,
   "id": "87a05acd",
   "metadata": {},
   "outputs": [
    {
     "name": "stdout",
     "output_type": "stream",
     "text": [
      "-0.7564479498187099\n"
     ]
    }
   ],
   "source": [
    "import numpy as np\n",
    "u = np.array([1, 3, -4])\n",
    "v = np.array([2, 1, 5])\n",
    "w = np.array([3,-2,6])\n",
    "prodUW=np.dot(u,w)\n",
    "normW= np.linalg.norm(w)\n",
    "normU= np.linalg.norm(u)\n",
    "res= prodUW/(normW*normU)\n",
    "print(res)"
   ]
  },
  {
   "cell_type": "markdown",
   "id": "026fa0e6",
   "metadata": {},
   "source": [
    "h. Find $d(\\textbf{u},\\textbf{v})$.<br>\n",
    "$$\n",
    "\\begin{array}\n",
    "         d(\\textbf{u},\\textbf{v})&=\\|\\textbf{u}-\\textbf{v}\\| \\\\\n",
    "        &= \\sqrt{(1 - 2)^2 + (3 - 1)^2 + (-4 - 5)^2} \n",
    "        &= \\sqrt{(-1)^2 + 2^2 + (-9)^2} \n",
    "        &= \\sqrt{1 + 4 + 81} \n",
    "        &= \\sqrt{86}\n",
    "\\end{array}\n",
    "$$\n"
   ]
  },
  {
   "cell_type": "code",
   "execution_count": 35,
   "id": "2e1b27aa",
   "metadata": {},
   "outputs": [
    {
     "name": "stdout",
     "output_type": "stream",
     "text": [
      "9.273618495495704\n"
     ]
    }
   ],
   "source": [
    "import numpy as np\n",
    "u = np.array([1, 3, -4])\n",
    "v = np.array([2, 1, 5])\n",
    "w = np.array([3,-2,6])\n",
    "diff=u-v\n",
    "distance = np.linalg.norm(diff)\n",
    "print(distance)"
   ]
  },
  {
   "cell_type": "markdown",
   "id": "b7b20ebf",
   "metadata": {},
   "source": [
    "i. Find $d(\\textbf{w},\\textbf{v})$.<br>\n",
    "$$\n",
    "\\begin{array}\n",
    "    d(\\textbf{w}, \\textbf{v})&=\\|\\textbf{w} - \\textbf{v}\\| \\\\\n",
    "        &= \\sqrt{(3 - 2)^2 + (-2 - 1)^2 + (6 - 5)^2} \n",
    "        &= \\sqrt{1^2 + (-3)^2 + 1^2} \n",
    "        &= \\sqrt{1 + 9 + 1} \n",
    "        &= \\sqrt{11}\n",
    "\\end{array}\n",
    "$$"
   ]
  },
  {
   "cell_type": "code",
   "execution_count": 36,
   "id": "22b721d6",
   "metadata": {},
   "outputs": [
    {
     "name": "stdout",
     "output_type": "stream",
     "text": [
      "3.3166247903554\n"
     ]
    }
   ],
   "source": [
    "import numpy as np\n",
    "u = np.array([1, 3, -4])\n",
    "v = np.array([2, 1, 5])\n",
    "w = np.array([3,-2,6])\n",
    "diff=w-v\n",
    "distance=np.linalg.norm(diff)\n",
    "print(distance)"
   ]
  },
  {
   "cell_type": "markdown",
   "id": "d7575fa6",
   "metadata": {},
   "source": [
    "j. Find $d(\\textbf{u},\\textbf{w})$. <br>\n",
    "$$\n",
    "\\begin{array}\n",
    "    \\textbf{d}(\\textbf{u}, \\textbf{w})&=\\|\\textbf{u} - \\textbf{w}\\| \\\\\n",
    "        &= \\sqrt{(1 - 3)^2 + (3 - (-2))^2 + (-4 - 6)^2} \n",
    "        &= \\sqrt{(-2)^2 + 5^2 + (-10)^2} \n",
    "        &= \\sqrt{4 + 25 + 100} \n",
    "        &= \\sqrt{129}\n",
    "\\end{array}\n",
    "$$"
   ]
  },
  {
   "cell_type": "code",
   "execution_count": 37,
   "id": "c8dd10cc",
   "metadata": {},
   "outputs": [
    {
     "name": "stdout",
     "output_type": "stream",
     "text": [
      "11.357816691600547\n"
     ]
    }
   ],
   "source": [
    "import numpy as np\n",
    "u = np.array([1, 3, -4])\n",
    "v = np.array([2, 1, 5])\n",
    "w = np.array([3,-2,6])\n",
    "diff=u-w\n",
    "distance=np.linalg.norm(diff)\n",
    "print(distance)"
   ]
  },
  {
   "cell_type": "markdown",
   "id": "36c39da8",
   "metadata": {},
   "source": [
    "k. Find $proj(\\textbf{u},\\textbf{v})$.<br>"
   ]
  },
  {
   "cell_type": "code",
   "execution_count": 39,
   "id": "b7392813",
   "metadata": {},
   "outputs": [
    {
     "name": "stdout",
     "output_type": "stream",
     "text": [
      "[-1.  -0.5 -2.5]\n"
     ]
    }
   ],
   "source": [
    "import numpy as np\n",
    "u = np.array([1, 3, -4])\n",
    "v = np.array([2, 1, 5])\n",
    "w = np.array([3,-2,6])\n",
    "prodUV=np.dot(u,v)\n",
    "normSqrd=np.linalg.norm(v)**2\n",
    "proj=(prodUV/normSqrd)*v\n",
    "print(proj)"
   ]
  },
  {
   "cell_type": "markdown",
   "id": "7724b270",
   "metadata": {},
   "source": [
    "l. Find $proj(\\textbf{w},\\textbf{v})$.<br>"
   ]
  },
  {
   "cell_type": "code",
   "execution_count": 40,
   "id": "1a8a6096",
   "metadata": {},
   "outputs": [
    {
     "name": "stdout",
     "output_type": "stream",
     "text": [
      "[2.26666667 1.13333333 5.66666667]\n"
     ]
    }
   ],
   "source": [
    "import numpy as np\n",
    "u = np.array([1, 3, -4])\n",
    "v = np.array([2, 1, 5])\n",
    "w = np.array([3,-2,6])\n",
    "prodWV=np.dot(w,v)\n",
    "normSqrd=np.linalg.norm(v)**2\n",
    "proj=(prodWV/normSqrd)*v\n",
    "print(proj)"
   ]
  },
  {
   "cell_type": "markdown",
   "id": "3c3b1cfa",
   "metadata": {},
   "source": [
    "Find  𝑝𝑟𝑜𝑗(𝐮,𝐰)"
   ]
  },
  {
   "cell_type": "code",
   "execution_count": 41,
   "id": "7a383cb2",
   "metadata": {},
   "outputs": [
    {
     "name": "stdout",
     "output_type": "stream",
     "text": [
      "[-1.65306122  1.10204082 -3.30612245]\n"
     ]
    }
   ],
   "source": [
    "import numpy as np\n",
    "u = np.array([1, 3, -4])\n",
    "v = np.array([2, 1, 5])\n",
    "w = np.array([3,-2,6])\n",
    "prodUW=np.dot(u,w)\n",
    "normSqrd=np.linalg.norm(w)**2\n",
    "proj=(prodUW/normSqrd)*w\n",
    "print(proj)"
   ]
  },
  {
   "cell_type": "markdown",
   "id": "e78fe141",
   "metadata": {},
   "source": [
    "Let $\\textbf{u} = (2,-5,4,6,-3)$, $\\textbf{v} = (5,-2,1,-7,-4)$, and $\\textbf{w} = (2,1,-3)$ find:<br>"
   ]
  },
  {
   "cell_type": "markdown",
   "id": "70c166bb",
   "metadata": {},
   "source": [
    "4. Normalize each vector:<br>\n",
    "a. $\\textbf{u}$ = (5,-7).<br>\n"
   ]
  },
  {
   "cell_type": "markdown",
   "id": "6eecc480",
   "metadata": {},
   "source": [
    "b. $\\textbf{v}$ = (1,2,-2,4).<br>\n"
   ]
  },
  {
   "cell_type": "markdown",
   "id": "cd0ef0f1",
   "metadata": {},
   "source": [
    "\n",
    "c. $\\textbf{w} = (\\frac{1}{2},\\frac{-1}{3},\\frac{3}{4})$.<br>"
   ]
  },
  {
   "cell_type": "markdown",
   "id": "08937641",
   "metadata": {},
   "source": [
    "5. Let $\\textbf{u} = (1,2,-2)$,$\\textbf{v} = (3,-12,4)$ and a scalar $k = -3$: <br>\n",
    "Find $||u||, ||v||, ||u+v||, ||ku||$.<br>\n"
   ]
  }
 ],
 "metadata": {
  "kernelspec": {
   "display_name": "Python 3 (ipykernel)",
   "language": "python",
   "name": "python3"
  },
  "language_info": {
   "codemirror_mode": {
    "name": "ipython",
    "version": 3
   },
   "file_extension": ".py",
   "mimetype": "text/x-python",
   "name": "python",
   "nbconvert_exporter": "python",
   "pygments_lexer": "ipython3",
   "version": "3.11.4"
  }
 },
 "nbformat": 4,
 "nbformat_minor": 5
}
