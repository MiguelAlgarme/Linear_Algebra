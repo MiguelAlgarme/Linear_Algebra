{
 "cells": [
  {
   "cell_type": "markdown",
   "id": "64e4074d",
   "metadata": {},
   "source": [
    "1. Let $\\textbf{u} = (1, -2, 4)$ and $\\textbf{v} = (3,5,1)$ $\\textbf{w} = (2,1,-3)$ find:<br>\n",
    "Answered Below\n",
    "<br>\n",
    "<br>\n",
    "2. Repeat problem 1 with the following column vectors:\n",
    "\\begin{align}\n",
    "    \\textbf{u} &= \\begin{bmatrix}\n",
    "           1 \\\\\n",
    "           3 \\\\\n",
    "           -4\n",
    "         \\end{bmatrix}, \\textbf{v} = \\begin{bmatrix}\n",
    "           2 \\\\\n",
    "           1 \\\\\n",
    "           5\n",
    "         \\end{bmatrix}, \\textbf{w} = \\begin{bmatrix}\n",
    "           3 \\\\\n",
    "           -2 \\\\\n",
    "           6\n",
    "         \\end{bmatrix}\n",
    "  \\end{align}\n",
    "<br>\n",
    "<br>\n",
    "<br>\n",
    "3. Let $\\textbf{u} = (2,-5,4,6,-3)$, $\\textbf{v} = (5,-2,1,-7,-4)$, and $\\textbf{w} = (2,1,-3)$ find:<br>\n",
    "a. $4\\textbf{u}-3\\textbf{v}$<br>\n",
    "b. $5\\textbf{u}+2\\textbf{v}-2\\textbf{w}$<br>\n",
    "c. $\\textbf{u} \\cdotp \\textbf{v}$,$\\textbf{v} \\cdotp \\textbf{w}$, $\\textbf{u} \\cdotp \\textbf{w}$<br>\n",
    "d. ||$\\textbf{u}$||, ||$\\textbf{v}$||, ||$\\textbf{w}$||<br>\n",
    "e. If $\\theta$ is the angle between $\\textbf{u}$  and   $\\textbf{v}$, find $\\cos{\\theta}$.<br>\n",
    "f. If $\\alpha$ is the angle between $\\textbf{v}$  and   $\\textbf{w}$, find $\\cos{\\alpha}$.<br>\n",
    "g. If $\\beta$ is the angle between $\\textbf{u}$  and   $\\textbf{w}$, find $\\cos{\\beta}$.<br>\n",
    "h. Find $d(\\textbf{u},\\textbf{v})$.<br>\n",
    "i. Find $d(\\textbf{w},\\textbf{v})$.<br>\n",
    "j. Find $d(\\textbf{u},\\textbf{w})$. <br>\n",
    "k. Find $proj(\\textbf{u},\\textbf{v})$.<br>\n",
    "l. Find $proj(\\textbf{w},\\textbf{v})$.<br>\n",
    "m. Find $proj(\\textbf{u},\\textbf{w})$. <br> \n",
    "<br>\n",
    "<br>\n",
    "4. Normalize each vector:<br>\n",
    "a. $\\textbf{u}$ = (5,-7).<br>\n",
    "b. $\\textbf{v}$ = (1,2,-2,4).<br>\n",
    "c. $\\textbf{w} = (\\frac{1}{2},\\frac{-1}{3},\\frac{3}{4})$.<br>\n",
    "<br>\n",
    "<br>\n",
    "5. Let $\\textbf{u} = (1,2,-2)$,$\\textbf{v} = (3,-12,4)$ and a scalar $k = -3$: <br>\n",
    "Find $||u||, ||v||, ||u+v||, ||ku||$.<br>\n",
    "<br>\n",
    "<br>\n",
    "6. Find k so that $\\textbf{u}  \\ and \\  \\textbf{v}$ are orthogonal.\n",
    "a. $\\textbf{u} = (3, k, -2), \\textbf{v} = (6, -4, -3)$.<br>\n",
    "b. $\\textbf{u} = (5,k,-4,2), \\textbf{v} = (1,-3,2,2k)$.<br>\n",
    "c. $\\textbf{u} = (1,7,k+2,-2), \\textbf{v} = (3, k, -3,k)$.<br>"
   ]
  },
  {
   "cell_type": "markdown",
   "id": "275d599b",
   "metadata": {},
   "source": [
    "1. Let $\\textbf{u} = (1, -2, 4)$ and $\\textbf{v} = (3,5,1)$ $\\textbf{w} = (2,1,-3)$ find:<br>\n",
    "a. $3\\textbf{u}-2\\textbf{v}$<br>"
   ]
  },
  {
   "cell_type": "markdown",
   "id": "180e9a6d",
   "metadata": {},
   "source": [
    "**1.a. Answer**\n",
    "$$\n",
    "\\begin{align}\n",
    "    3\\textbf{u} - 2\\textbf{v} &= (3(1), 3(-2), 3(4)) &- (2(3), 2(5), 2(1)) \\\\\n",
    "        &= (3,-6, 12) &- (6, 10, 2) \\\\\n",
    "        &&= (-3, -16, 10)\n",
    "\\end{align}\n",
    "$$\n"
   ]
  },
  {
   "cell_type": "code",
   "execution_count": 39,
   "id": "92e1ce7a",
   "metadata": {},
   "outputs": [
    {
     "name": "stdout",
     "output_type": "stream",
     "text": [
      "3(1), 3(-2), 3(4) [ 3 -6 12]\n",
      "2(3), 2(5), 2(1) [ 6 10  2]\n",
      "Answer: [ -3 -16  10]\n"
     ]
    }
   ],
   "source": [
    "import numpy as np\n",
    "u = np.array([1,-2,4])\n",
    "v = np.array([3,5,1])\n",
    "print(\"3(1), 3(-2), 3(4)\",u*3)\n",
    "print(\"2(3), 2(5), 2(1)\",v*2)\n",
    "print(\"Answer:\",u*3 - v*2)"
   ]
  },
  {
   "cell_type": "markdown",
   "id": "b3a8d161",
   "metadata": {},
   "source": [
    "1.b. $5\\textbf{u}+3\\textbf{v}-4\\textbf{w}$<br>"
   ]
  },
  {
   "cell_type": "markdown",
   "id": "b4d90df8",
   "metadata": {},
   "source": [
    "Let $\\textbf{u} = (1, -2, 4)$ and $\\textbf{v} = (3,5,1)$ $\\textbf{w} = (2,1,-3)$ find:<br>\n",
    "$$\n",
    "\\begin{align}\n",
    "    5\\textbf{u} + 3\\textbf{v} - 4\\textbf{w} &= (5(1), 5(-2), 5(4)) + (3(3), 3(5), 3(1)) - (4(2), 4(1), 4(-3)) \\\\\n",
    "        &= (5, -10, 20) + (9, 15, 3) - (8, 4, -12) \\\\\n",
    "        &= (6, 1, 35)\n",
    "\\end{align}\n",
    "$$"
   ]
  },
  {
   "cell_type": "code",
   "execution_count": 4,
   "id": "6dc9a801",
   "metadata": {},
   "outputs": [
    {
     "name": "stdout",
     "output_type": "stream",
     "text": [
      "5(1),5(−2),5(4) [  5 -10  20]\n",
      "3(3),3(5),3(1) [ 9 15  3]\n",
      "4(2),4(1),4(−3) [  8   4 -12]\n",
      "u + v - w\n",
      "ANSWER: [ 6  1 35]\n"
     ]
    }
   ],
   "source": [
    "import numpy as np\n",
    "u = np.array([1,-2,4])\n",
    "v = np.array([3,5,1])\n",
    "w = np.array([2,1,-3])\n",
    "print(\"5(1),5(−2),5(4)\", u*5)\n",
    "print(\"3(3),3(5),3(1)\", v*3)\n",
    "print(\"4(2),4(1),4(−3)\", w*4)\n",
    "print(\"u + v - w\")\n",
    "print(\"ANSWER:\", u*5+v*3-w*4)"
   ]
  },
  {
   "cell_type": "markdown",
   "id": "c5f1d7a9",
   "metadata": {},
   "source": [
    "1.c. $\\textbf{u} \\cdotp \\textbf{v}$,$\\textbf{v} \\cdotp \\textbf{w}$, $\\textbf{u} \\cdotp \\textbf{w}$<br>\n",
    "Let $\\textbf{u} = (1, -2, 4)$ and $\\textbf{v} = (3,5,1)$ $\\textbf{w} = (2,1,-3)$ find:<br>\n",
    "$$\n",
    "   \\begin{align*}\n",
    "       \\mathbf{u} \\cdot \\mathbf{v} &= (1)(3) + (-2)(5) + (4)(1) \\\\\n",
    "       &= 3 - 10 + 4 \\\\\n",
    "       &= -3\n",
    "   \\end{align*}\n",
    " $$\n",
    "\n",
    "$$\n",
    "   \\begin{align*}\n",
    "       \\mathbf{v} \\cdot \\mathbf{w} &= (3)(2) + (5)(1) + (1)(-3) \\\\\n",
    "       &= 6 + 5 - 3 \\\\\n",
    "       &= 8\n",
    "   \\end{align*}\n",
    "$$\n",
    "$$\n",
    "   \\begin{align*}\n",
    "       \\mathbf{u} \\cdot \\mathbf{w} &= (1)(2) + (-2)(1) + (4)(-3) \\\\\n",
    "       &= 2 - 2 - 12 \\\\\n",
    "       &= -12\n",
    "   \\end{align*}\n",
    "$$"
   ]
  },
  {
   "cell_type": "code",
   "execution_count": 5,
   "id": "a880ae63",
   "metadata": {},
   "outputs": [
    {
     "name": "stdout",
     "output_type": "stream",
     "text": [
      "u dot v = -3\n",
      "v dot w = 8\n",
      "u dot w = -12\n"
     ]
    }
   ],
   "source": [
    "import numpy as np\n",
    "u = np.array([1,-2,4])\n",
    "v = np.array([3,5,1])\n",
    "w = np.array([2,1,-3])\n",
    "\n",
    "uvdot = np.dot(u, v)\n",
    "vwdot = np.dot(v, w)\n",
    "uwdot = np.dot(u, w)\n",
    "\n",
    "print(\"u dot v =\", uvdot)\n",
    "print(\"v dot w =\", vwdot)\n",
    "print(\"u dot w =\", uwdot)"
   ]
  },
  {
   "cell_type": "markdown",
   "id": "3e21cdd9",
   "metadata": {},
   "source": [
    "d. ||$\\textbf{u}||, ||$\\textbf{v}||, ||$\\textbf{w}$||<br>"
   ]
  },
  {
   "cell_type": "markdown",
   "id": "b90b4c10",
   "metadata": {},
   "source": [
    "$$\\begin{align*}\n",
    " \\|\\mathbf{u}\\| &= \\sqrt{1^2 + (-2)^2 + 4^2} \\\\\n",
    "    &= \\sqrt{1 + 4 + 16} \\\\\n",
    "    &= \\sqrt{21}\\\\\n",
    "  \\|\\mathbf{v}\\| &= \\sqrt{3^2 + 5^2 + 1^2} \\\\\n",
    "    &= \\sqrt{9 + 25 + 1} \\\\\n",
    "    &= \\sqrt{35}\\\\\n",
    "  \\|\\mathbf{w}\\| &= \\sqrt{2^2 + 1^2 + (-3)^2} \\\\\n",
    "    &= \\sqrt{4 + 1 + 9} \\\\\n",
    "    &= \\sqrt{14}\n",
    "    \\end{align*}\n",
    "$$"
   ]
  },
  {
   "cell_type": "code",
   "execution_count": 13,
   "id": "81145ef3",
   "metadata": {},
   "outputs": [
    {
     "name": "stdout",
     "output_type": "stream",
     "text": [
      "||u|| = 4.58257569495584\n",
      "||v|| = 5.916079783099616\n",
      "||w|| = 3.7416573867739413\n"
     ]
    }
   ],
   "source": [
    "import numpy as np\n",
    "u = np.array([1, -2, 4])\n",
    "v = np.array([3, 5, 1])\n",
    "w = np.array([2, 1, -3])\n",
    "normU = np.linalg.norm(u)\n",
    "normV = np.linalg.norm(v)\n",
    "normW = np.linalg.norm(w)\n",
    "print(\"||u|| =\", normU)\n",
    "print(\"||v|| =\", normV)\n",
    "print(\"||w|| =\", normW)"
   ]
  },
  {
   "cell_type": "markdown",
   "id": "d84588e6",
   "metadata": {},
   "source": [
    "e. If $\\theta$ is the angle between $\\textbf{u}$  and   $\\textbf{v}$, find $\\cos{\\theta}$.<br>\n",
    "\n"
   ]
  },
  {
   "cell_type": "markdown",
   "id": "4518fbe7",
   "metadata": {},
   "source": [
    "**E, the latex had a stroke**\n",
    "\n"
   ]
  },
  {
   "cell_type": "code",
   "execution_count": 14,
   "id": "3a6dc396",
   "metadata": {},
   "outputs": [
    {
     "name": "stdout",
     "output_type": "stream",
     "text": [
      "-0.11065666703449763\n"
     ]
    }
   ],
   "source": [
    "import numpy as np\n",
    "u = np.array([1, -2, 4])\n",
    "v = np.array([3, 5, 1])\n",
    "dotProd = np.dot(u, v)\n",
    "normU = np.linalg.norm(u)\n",
    "normV = np.linalg.norm(v)\n",
    "res = dotProd / (normU * normV)\n",
    "print(res)"
   ]
  },
  {
   "cell_type": "markdown",
   "id": "3a310431",
   "metadata": {},
   "source": [
    "**f**"
   ]
  },
  {
   "cell_type": "markdown",
   "id": "edc7e818",
   "metadata": {},
   "source": [
    "If $\\alpha$ is the angle between $\\textbf{v}$  and   $\\textbf{w}$, find $\\cos{\\alpha}$.<br>"
   ]
  },
  {
   "cell_type": "code",
   "execution_count": 16,
   "id": "d33f58a1",
   "metadata": {},
   "outputs": [
    {
     "name": "stdout",
     "output_type": "stream",
     "text": [
      "0.36140316116210053\n"
     ]
    }
   ],
   "source": [
    "import numpy as np\n",
    "u = np.array([1, -2, 4])\n",
    "v = np.array([3, 5, 1])\n",
    "w = np.array([2, 1, -3])\n",
    "dotProd = np.dot(v, w)\n",
    "normV = np.linalg.norm(v)\n",
    "normW = np.linalg.norm(w)\n",
    "res = dotProd/(normV * normW)\n",
    "print(res)"
   ]
  },
  {
   "cell_type": "markdown",
   "id": "a6c97e24",
   "metadata": {},
   "source": [
    "g. If $\\beta$ is the angle between $\\textbf{u}$  and   $\\textbf{w}$, find $\\cos{\\beta}$.<br>"
   ]
  },
  {
   "cell_type": "code",
   "execution_count": 17,
   "id": "dfce9be3",
   "metadata": {},
   "outputs": [
    {
     "name": "stdout",
     "output_type": "stream",
     "text": [
      "-0.6998542122237653\n"
     ]
    }
   ],
   "source": [
    "import numpy as np\n",
    "u = np.array([1, -2, 4])\n",
    "v = np.array([3, 5, 1])\n",
    "w = np.array([2, 1, -3])\n",
    "dotProd = np.dot(u, w)\n",
    "normU = np.linalg.norm(u)\n",
    "normW = np.linalg.norm(w)\n",
    "res = dotProd / (normU * normW)\n",
    "print(res)"
   ]
  },
  {
   "cell_type": "markdown",
   "id": "ea8cdd66",
   "metadata": {},
   "source": [
    "h. Find $d(\\textbf{u},\\textbf{v})$.<br>\n"
   ]
  },
  {
   "cell_type": "code",
   "execution_count": 18,
   "id": "dd60b767",
   "metadata": {},
   "outputs": [
    {
     "name": "stdout",
     "output_type": "stream",
     "text": [
      "7.874007874011811\n"
     ]
    }
   ],
   "source": [
    "import numpy as np\n",
    "u = np.array([1, -2, 4])\n",
    "v = np.array([3, 5, 1])\n",
    "w = np.array([2, 1, -3])\n",
    "diff=u-v\n",
    "distance = np.linalg.norm(diff)\n",
    "print(distance)"
   ]
  },
  {
   "cell_type": "markdown",
   "id": "e2c98252",
   "metadata": {},
   "source": [
    "i. Find $d(\\textbf{w},\\textbf{v})$.<br>"
   ]
  },
  {
   "cell_type": "code",
   "execution_count": 19,
   "id": "1047ff7a",
   "metadata": {},
   "outputs": [
    {
     "name": "stdout",
     "output_type": "stream",
     "text": [
      "5.744562646538029\n"
     ]
    }
   ],
   "source": [
    "import numpy as np\n",
    "u = np.array([1, -2, 4])\n",
    "v = np.array([3, 5, 1])\n",
    "w = np.array([2, 1, -3])\n",
    "diff=w-v\n",
    "distance = np.linalg.norm(diff)\n",
    "print(distance)"
   ]
  },
  {
   "cell_type": "markdown",
   "id": "acfde27a",
   "metadata": {},
   "source": [
    "j. Find $d(\\textbf{u},\\textbf{w})$. <br>"
   ]
  },
  {
   "cell_type": "code",
   "execution_count": 21,
   "id": "6d3ebce8",
   "metadata": {},
   "outputs": [
    {
     "name": "stdout",
     "output_type": "stream",
     "text": [
      "7.681145747868608\n"
     ]
    }
   ],
   "source": [
    "import numpy as np\n",
    "u = np.array([1, -2, 4])\n",
    "v = np.array([3, 5, 1])\n",
    "w = np.array([2, 1, -3])\n",
    "diff=u-w\n",
    "distance = np.linalg.norm(diff)\n",
    "print(distance)"
   ]
  },
  {
   "cell_type": "markdown",
   "id": "5631d4ef",
   "metadata": {},
   "source": [
    "k. Find $proj(\\textbf{u},\\textbf{v})$.<br>"
   ]
  },
  {
   "cell_type": "code",
   "execution_count": 22,
   "id": "34d8b23f",
   "metadata": {},
   "outputs": [
    {
     "name": "stdout",
     "output_type": "stream",
     "text": [
      "[-0.25714286 -0.42857143 -0.08571429]\n"
     ]
    }
   ],
   "source": [
    "import numpy as np\n",
    "u = np.array([1, -2, 4])\n",
    "v = np.array([3, 5, 1])\n",
    "w = np.array([2, 1, -3])\n",
    "dotProd = np.dot(u,v)\n",
    "normSqr=np.linalg.norm(v)**2\n",
    "proj=(dotProd/normSqr)*v\n",
    "print(proj)"
   ]
  },
  {
   "cell_type": "markdown",
   "id": "a3bc1f0e",
   "metadata": {},
   "source": [
    "l. Find $proj(\\textbf{w},\\textbf{v})$.<br>"
   ]
  },
  {
   "cell_type": "code",
   "execution_count": 23,
   "id": "e25e05ef",
   "metadata": {},
   "outputs": [
    {
     "name": "stdout",
     "output_type": "stream",
     "text": [
      "[0.68571429 1.14285714 0.22857143]\n"
     ]
    }
   ],
   "source": [
    "import numpy as np\n",
    "u = np.array([1, -2, 4])\n",
    "v = np.array([3, 5, 1])\n",
    "w = np.array([2, 1, -3])\n",
    "dotProd = np.dot(w,v)\n",
    "normSqr=np.linalg.norm(v)**2\n",
    "proj=(dotProd/normSqr)*v\n",
    "print(proj)"
   ]
  },
  {
   "cell_type": "markdown",
   "id": "8f3881bf",
   "metadata": {},
   "source": [
    "m. Find $proj(\\textbf{u},\\textbf{w})$. <br> "
   ]
  },
  {
   "cell_type": "code",
   "execution_count": 24,
   "id": "8655db14",
   "metadata": {},
   "outputs": [
    {
     "name": "stdout",
     "output_type": "stream",
     "text": [
      "[-1.71428571 -0.85714286  2.57142857]\n"
     ]
    }
   ],
   "source": [
    "import numpy as np\n",
    "u = np.array([1, -2, 4])\n",
    "v = np.array([3, 5, 1])\n",
    "w = np.array([2, 1, -3])\n",
    "dotProd = np.dot(u,w)\n",
    "normSqr=np.linalg.norm(w)**2\n",
    "proj=(dotProd/normSqr)*w\n",
    "print(proj)"
   ]
  }
 ],
 "metadata": {
  "kernelspec": {
   "display_name": "Python 3 (ipykernel)",
   "language": "python",
   "name": "python3"
  },
  "language_info": {
   "codemirror_mode": {
    "name": "ipython",
    "version": 3
   },
   "file_extension": ".py",
   "mimetype": "text/x-python",
   "name": "python",
   "nbconvert_exporter": "python",
   "pygments_lexer": "ipython3",
   "version": "3.11.4"
  }
 },
 "nbformat": 4,
 "nbformat_minor": 5
}
