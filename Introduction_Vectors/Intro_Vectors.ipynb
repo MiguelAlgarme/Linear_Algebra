{
 "cells": [
  {
   "cell_type": "markdown",
   "id": "64e4074d",
   "metadata": {},
   "source": [
    "1. Let $\\textbf{u} = (1, -2, 4)$ and $\\textbf{v} = (3,5,1)$ $\\textbf{w} = (2,1,-3)$ find:<br>\n",
    "Answered Below\n",
    "<br>\n",
    "<br>\n",
    "2. Repeat problem 1 with the following column vectors:\n",
    "\\begin{align}\n",
    "    \\textbf{u} &= \\begin{bmatrix}\n",
    "           1 \\\\\n",
    "           3 \\\\\n",
    "           -4\n",
    "         \\end{bmatrix}, \\textbf{v} = \\begin{bmatrix}\n",
    "           2 \\\\\n",
    "           1 \\\\\n",
    "           5\n",
    "         \\end{bmatrix}, \\textbf{w} = \\begin{bmatrix}\n",
    "           3 \\\\\n",
    "           -2 \\\\\n",
    "           6\n",
    "         \\end{bmatrix}\n",
    "  \\end{align}\n",
    "<br>\n",
    "<br>\n",
    "<br>\n",
    "3. Let $\\textbf{u} = (2,-5,4,6,-3)$, $\\textbf{v} = (5,-2,1,-7,-4)$, and $\\textbf{w} = (2,1,-3)$ find:<br>\n",
    "a. $4\\textbf{u}-3\\textbf{v}$<br>\n",
    "b. $5\\textbf{u}+2\\textbf{v}-2\\textbf{w}$<br>\n",
    "c. $\\textbf{u} \\cdotp \\textbf{v}$,$\\textbf{v} \\cdotp \\textbf{w}$, $\\textbf{u} \\cdotp \\textbf{w}$<br>\n",
    "d. ||$\\textbf{u}$||, ||$\\textbf{v}$||, ||$\\textbf{w}$||<br>\n",
    "e. If $\\theta$ is the angle between $\\textbf{u}$  and   $\\textbf{v}$, find $\\cos{\\theta}$.<br>\n",
    "f. If $\\alpha$ is the angle between $\\textbf{v}$  and   $\\textbf{w}$, find $\\cos{\\alpha}$.<br>\n",
    "g. If $\\beta$ is the angle between $\\textbf{u}$  and   $\\textbf{w}$, find $\\cos{\\beta}$.<br>\n",
    "h. Find $d(\\textbf{u},\\textbf{v})$.<br>\n",
    "i. Find $d(\\textbf{w},\\textbf{v})$.<br>\n",
    "j. Find $d(\\textbf{u},\\textbf{w})$. <br>\n",
    "k. Find $proj(\\textbf{u},\\textbf{v})$.<br>\n",
    "l. Find $proj(\\textbf{w},\\textbf{v})$.<br>\n",
    "m. Find $proj(\\textbf{u},\\textbf{w})$. <br> \n",
    "<br>\n",
    "<br>\n",
    "4. Normalize each vector:<br>\n",
    "a. $\\textbf{u}$ = (5,-7).<br>\n",
    "b. $\\textbf{v}$ = (1,2,-2,4).<br>\n",
    "c. $\\textbf{w} = (\\frac{1}{2},\\frac{-1}{3},\\frac{3}{4})$.<br>\n",
    "<br>\n",
    "<br>\n",
    "5. Let $\\textbf{u} = (1,2,-2)$,$\\textbf{v} = (3,-12,4)$ and a scalar $k = -3$: <br>\n",
    "Find $||u||, ||v||, ||u+v||, ||ku||$.<br>\n",
    "<br>\n",
    "<br>\n",
    "6. Find k so that $\\textbf{u}  \\ and \\  \\textbf{v}$ are orthogonal.\n",
    "a. $\\textbf{u} = (3, k, -2), \\textbf{v} = (6, -4, -3)$.<br>\n",
    "b. $\\textbf{u} = (5,k,-4,2), \\textbf{v} = (1,-3,2,2k)$.<br>\n",
    "c. $\\textbf{u} = (1,7,k+2,-2), \\textbf{v} = (3, k, -3,k)$.<br>"
   ]
  },
  {
   "cell_type": "markdown",
   "id": "275d599b",
   "metadata": {},
   "source": [
    "1. Let $\\textbf{u} = (1, -2, 4)$ and $\\textbf{v} = (3,5,1)$ $\\textbf{w} = (2,1,-3)$ find:<br>\n",
    "a. $3\\textbf{u}-2\\textbf{v}$<br>"
   ]
  },
  {
   "cell_type": "markdown",
   "id": "180e9a6d",
   "metadata": {},
   "source": [
    "**1.a. Answer**\n",
    "$$\n",
    "\\begin{align}\n",
    "    3\\textbf{u} - 2\\textbf{v} &= (3(1), 3(-2), 3(4)) &- (2(3), 2(5), 2(1)) \\\\\n",
    "        &= (3,-6, 12) &- (6, 10, 2) \\\\\n",
    "        &&= (-3, -16, 10)\n",
    "\\end{align}\n",
    "$$\n"
   ]
  },
  {
   "cell_type": "code",
   "execution_count": 39,
   "id": "92e1ce7a",
   "metadata": {},
   "outputs": [
    {
     "name": "stdout",
     "output_type": "stream",
     "text": [
      "3(1), 3(-2), 3(4) [ 3 -6 12]\n",
      "2(3), 2(5), 2(1) [ 6 10  2]\n",
      "Answer: [ -3 -16  10]\n"
     ]
    }
   ],
   "source": [
    "import numpy as np\n",
    "u = np.array([1,-2,4])\n",
    "v = np.array([3,5,1])\n",
    "print(\"3(1), 3(-2), 3(4)\",u*3)\n",
    "print(\"2(3), 2(5), 2(1)\",v*2)\n",
    "print(\"Answer:\",u*3 - v*2)"
   ]
  },
  {
   "cell_type": "markdown",
   "id": "b3a8d161",
   "metadata": {},
   "source": [
    "1.b. $5\\textbf{u}+3\\textbf{v}-4\\textbf{w}$<br>"
   ]
  },
  {
   "cell_type": "markdown",
   "id": "b4d90df8",
   "metadata": {},
   "source": [
    "Let $\\textbf{u} = (1, -2, 4)$ and $\\textbf{v} = (3,5,1)$ $\\textbf{w} = (2,1,-3)$ find:<br>\n",
    "$$\n",
    "\\begin{align}\n",
    "    5\\textbf{u} + 3\\textbf{v} - 4\\textbf{w} &= (5(1), 5(-2), 5(4)) + (3(3), 3(5), 3(1)) - (4(2), 4(1), 4(-3)) \\\\\n",
    "        &= (5, -10, 20) + (9, 15, 3) - (8, 4, -12) \\\\\n",
    "        &= (6, 1, 35)\n",
    "\\end{align}\n",
    "$$"
   ]
  },
  {
   "cell_type": "code",
   "execution_count": 4,
   "id": "6dc9a801",
   "metadata": {},
   "outputs": [
    {
     "name": "stdout",
     "output_type": "stream",
     "text": [
      "5(1),5(−2),5(4) [  5 -10  20]\n",
      "3(3),3(5),3(1) [ 9 15  3]\n",
      "4(2),4(1),4(−3) [  8   4 -12]\n",
      "u + v - w\n",
      "ANSWER: [ 6  1 35]\n"
     ]
    }
   ],
   "source": [
    "import numpy as np\n",
    "u = np.array([1,-2,4])\n",
    "v = np.array([3,5,1])\n",
    "w = np.array([2,1,-3])\n",
    "print(\"5(1),5(−2),5(4)\", u*5)\n",
    "print(\"3(3),3(5),3(1)\", v*3)\n",
    "print(\"4(2),4(1),4(−3)\", w*4)\n",
    "print(\"u + v - w\")\n",
    "print(\"ANSWER:\", u*5+v*3-w*4)"
   ]
  },
  {
   "cell_type": "markdown",
   "id": "c5f1d7a9",
   "metadata": {},
   "source": [
    "1.c. $\\textbf{u} \\cdotp \\textbf{v}$,$\\textbf{v} \\cdotp \\textbf{w}$, $\\textbf{u} \\cdotp \\textbf{w}$<br>\n",
    "Let $\\textbf{u} = (1, -2, 4)$ and $\\textbf{v} = (3,5,1)$ $\\textbf{w} = (2,1,-3)$ find:<br>\n",
    "$$\n",
    "   \\begin{align*}\n",
    "       \\mathbf{u} \\cdot \\mathbf{v} &= (1)(3) + (-2)(5) + (4)(1) \\\\\n",
    "       &= 3 - 10 + 4 \\\\\n",
    "       &= -3\n",
    "   \\end{align*}\n",
    " $$\n",
    "\n",
    "$$\n",
    "   \\begin{align*}\n",
    "       \\mathbf{v} \\cdot \\mathbf{w} &= (3)(2) + (5)(1) + (1)(-3) \\\\\n",
    "       &= 6 + 5 - 3 \\\\\n",
    "       &= 8\n",
    "   \\end{align*}\n",
    "$$\n",
    "$$\n",
    "   \\begin{align*}\n",
    "       \\mathbf{u} \\cdot \\mathbf{w} &= (1)(2) + (-2)(1) + (4)(-3) \\\\\n",
    "       &= 2 - 2 - 12 \\\\\n",
    "       &= -12\n",
    "   \\end{align*}\n",
    "$$"
   ]
  },
  {
   "cell_type": "code",
   "execution_count": 5,
   "id": "79d5acc9",
   "metadata": {},
   "outputs": [
    {
     "name": "stdout",
     "output_type": "stream",
     "text": [
      "u dot v = -3\n",
      "v dot w = 8\n",
      "u dot w = -12\n"
     ]
    }
   ],
   "source": [
    "import numpy as np\n",
    "u = np.array([1,-2,4])\n",
    "v = np.array([3,5,1])\n",
    "w = np.array([2,1,-3])\n",
    "\n",
    "uvdot = np.dot(u, v)\n",
    "vwdot = np.dot(v, w)\n",
    "uwdot = np.dot(u, w)\n",
    "\n",
    "print(\"u dot v =\", uvdot)\n",
    "print(\"v dot w =\", vwdot)\n",
    "print(\"u dot w =\", uwdot)"
   ]
  },
  {
   "cell_type": "markdown",
   "id": "ac50cf14",
   "metadata": {},
   "source": [
    "d. ||$\\textbf{u}||, ||$\\textbf{v}||, ||$\\textbf{w}$||<br>"
   ]
  },
  {
   "cell_type": "markdown",
   "id": "bc931053",
   "metadata": {},
   "source": [
    "$$\\begin{align*}\n",
    " \\|\\mathbf{u}\\| &= \\sqrt{1^2 + (-2)^2 + 4^2} \\\\\n",
    "    &= \\sqrt{1 + 4 + 16} \\\\\n",
    "    &= \\sqrt{21}\\\\\n",
    "  \\|\\mathbf{v}\\| &= \\sqrt{3^2 + 5^2 + 1^2} \\\\\n",
    "    &= \\sqrt{9 + 25 + 1} \\\\\n",
    "    &= \\sqrt{35}\\\\\n",
    "  \\|\\mathbf{w}\\| &= \\sqrt{2^2 + 1^2 + (-3)^2} \\\\\n",
    "    &= \\sqrt{4 + 1 + 9} \\\\\n",
    "    &= \\sqrt{14}\n",
    "    \\end{align*}\n",
    "$$"
   ]
  },
  {
   "cell_type": "code",
   "execution_count": 13,
   "id": "c1ef20b4",
   "metadata": {},
   "outputs": [
    {
     "name": "stdout",
     "output_type": "stream",
     "text": [
      "||u|| = 4.58257569495584\n",
      "||v|| = 5.916079783099616\n",
      "||w|| = 3.7416573867739413\n"
     ]
    }
   ],
   "source": [
    "import numpy as np\n",
    "u = np.array([1, -2, 4])\n",
    "v = np.array([3, 5, 1])\n",
    "w = np.array([2, 1, -3])\n",
    "normU = np.linalg.norm(u)\n",
    "normV = np.linalg.norm(v)\n",
    "normW = np.linalg.norm(w)\n",
    "print(\"||u|| =\", normU)\n",
    "print(\"||v|| =\", normV)\n",
    "print(\"||w|| =\", normW)"
   ]
  },
  {
   "cell_type": "markdown",
   "id": "33fd853b",
   "metadata": {},
   "source": [
    "e. If $\\theta$ is the angle between $\\textbf{u}$  and   $\\textbf{v}$, find $\\cos{\\theta}$.<br>\n",
    "\n"
   ]
  },
  {
   "cell_type": "markdown",
   "id": "779b6e8a",
   "metadata": {},
   "source": [
    "**E, the latex had a stroke**\n",
    "\n"
   ]
  },
  {
   "cell_type": "code",
   "execution_count": 14,
   "id": "21840e0e",
   "metadata": {},
   "outputs": [
    {
     "name": "stdout",
     "output_type": "stream",
     "text": [
      "-0.11065666703449763\n"
     ]
    }
   ],
   "source": [
    "import numpy as np\n",
    "u = np.array([1, -2, 4])\n",
    "v = np.array([3, 5, 1])\n",
    "dotProd = np.dot(u, v)\n",
    "normU = np.linalg.norm(u)\n",
    "normV = np.linalg.norm(v)\n",
    "res = dotProd / (normU * normV)\n",
    "print(res)"
   ]
  },
  {
   "cell_type": "markdown",
   "id": "e93d0297",
   "metadata": {},
   "source": [
    "**f**"
   ]
  },
  {
   "cell_type": "markdown",
   "id": "9c03a2a1",
   "metadata": {},
   "source": [
    "If $\\alpha$ is the angle between $\\textbf{v}$  and   $\\textbf{w}$, find $\\cos{\\alpha}$.<br>"
   ]
  },
  {
   "cell_type": "code",
   "execution_count": 16,
   "id": "5168dc1b",
   "metadata": {},
   "outputs": [
    {
     "name": "stdout",
     "output_type": "stream",
     "text": [
      "0.36140316116210053\n"
     ]
    }
   ],
   "source": [
    "import numpy as np\n",
    "u = np.array([1, -2, 4])\n",
    "v = np.array([3, 5, 1])\n",
    "w = np.array([2, 1, -3])\n",
    "dotProd = np.dot(v, w)\n",
    "normV = np.linalg.norm(v)\n",
    "normW = np.linalg.norm(w)\n",
    "res = dotProd/(normV * normW)\n",
    "print(res)"
   ]
  },
  {
   "cell_type": "markdown",
   "id": "19735a2d",
   "metadata": {},
   "source": [
    "g. If $\\beta$ is the angle between $\\textbf{u}$  and   $\\textbf{w}$, find $\\cos{\\beta}$.<br>"
   ]
  },
  {
   "cell_type": "code",
   "execution_count": 17,
   "id": "82aafcf6",
   "metadata": {},
   "outputs": [
    {
     "name": "stdout",
     "output_type": "stream",
     "text": [
      "-0.6998542122237653\n"
     ]
    }
   ],
   "source": [
    "import numpy as np\n",
    "u = np.array([1, -2, 4])\n",
    "v = np.array([3, 5, 1])\n",
    "w = np.array([2, 1, -3])\n",
    "dotProd = np.dot(u, w)\n",
    "normU = np.linalg.norm(u)\n",
    "normW = np.linalg.norm(w)\n",
    "res = dotProd / (normU * normW)\n",
    "print(res)"
   ]
  },
  {
   "cell_type": "markdown",
   "id": "ba68b92f",
   "metadata": {},
   "source": [
    "h. Find $d(\\textbf{u},\\textbf{v})$.<br>\n"
   ]
  },
  {
   "cell_type": "code",
   "execution_count": 18,
   "id": "ee864cb3",
   "metadata": {},
   "outputs": [
    {
     "name": "stdout",
     "output_type": "stream",
     "text": [
      "7.874007874011811\n"
     ]
    }
   ],
   "source": [
    "import numpy as np\n",
    "u = np.array([1, -2, 4])\n",
    "v = np.array([3, 5, 1])\n",
    "w = np.array([2, 1, -3])\n",
    "diff=u-v\n",
    "distance = np.linalg.norm(diff)\n",
    "print(distance)"
   ]
  },
  {
   "cell_type": "markdown",
   "id": "f100b374",
   "metadata": {},
   "source": [
    "i. Find $d(\\textbf{w},\\textbf{v})$.<br>"
   ]
  },
  {
   "cell_type": "code",
   "execution_count": 19,
   "id": "d733cc13",
   "metadata": {},
   "outputs": [
    {
     "name": "stdout",
     "output_type": "stream",
     "text": [
      "5.744562646538029\n"
     ]
    }
   ],
   "source": [
    "import numpy as np\n",
    "u = np.array([1, -2, 4])\n",
    "v = np.array([3, 5, 1])\n",
    "w = np.array([2, 1, -3])\n",
    "diff=w-v\n",
    "distance = np.linalg.norm(diff)\n",
    "print(distance)"
   ]
  },
  {
   "cell_type": "markdown",
   "id": "a78669fb",
   "metadata": {},
   "source": [
    "j. Find $d(\\textbf{u},\\textbf{w})$. <br>"
   ]
  },
  {
   "cell_type": "code",
   "execution_count": 21,
   "id": "a89a8352",
   "metadata": {},
   "outputs": [
    {
     "name": "stdout",
     "output_type": "stream",
     "text": [
      "7.681145747868608\n"
     ]
    }
   ],
   "source": [
    "import numpy as np\n",
    "u = np.array([1, -2, 4])\n",
    "v = np.array([3, 5, 1])\n",
    "w = np.array([2, 1, -3])\n",
    "diff=u-w\n",
    "distance = np.linalg.norm(diff)\n",
    "print(distance)"
   ]
  },
  {
   "cell_type": "markdown",
   "id": "3a2a576a",
   "metadata": {},
   "source": [
    "k. Find $proj(\\textbf{u},\\textbf{v})$.<br>"
   ]
  },
  {
   "cell_type": "code",
   "execution_count": 22,
   "id": "494a02b6",
   "metadata": {},
   "outputs": [
    {
     "name": "stdout",
     "output_type": "stream",
     "text": [
      "[-0.25714286 -0.42857143 -0.08571429]\n"
     ]
    }
   ],
   "source": [
    "import numpy as np\n",
    "u = np.array([1, -2, 4])\n",
    "v = np.array([3, 5, 1])\n",
    "w = np.array([2, 1, -3])\n",
    "dotProd = np.dot(u,v)\n",
    "normSqr=np.linalg.norm(v)**2\n",
    "proj=(dotProd/normSqr)*v\n",
    "print(proj)"
   ]
  },
  {
   "cell_type": "markdown",
   "id": "d537aab3",
   "metadata": {},
   "source": [
    "l. Find $proj(\\textbf{w},\\textbf{v})$.<br>"
   ]
  },
  {
   "cell_type": "code",
   "execution_count": 23,
   "id": "29bc0988",
   "metadata": {},
   "outputs": [
    {
     "name": "stdout",
     "output_type": "stream",
     "text": [
      "[0.68571429 1.14285714 0.22857143]\n"
     ]
    }
   ],
   "source": [
    "import numpy as np\n",
    "u = np.array([1, -2, 4])\n",
    "v = np.array([3, 5, 1])\n",
    "w = np.array([2, 1, -3])\n",
    "dotProd = np.dot(w,v)\n",
    "normSqr=np.linalg.norm(v)**2\n",
    "proj=(dotProd/normSqr)*v\n",
    "print(proj)"
   ]
  },
  {
   "cell_type": "markdown",
   "id": "f68140cf",
   "metadata": {},
   "source": [
    "m. Find $proj(\\textbf{u},\\textbf{w})$. <br> "
   ]
  },
  {
   "cell_type": "code",
   "execution_count": 24,
   "id": "647e1151",
   "metadata": {},
   "outputs": [
    {
     "name": "stdout",
     "output_type": "stream",
     "text": [
      "[-1.71428571 -0.85714286  2.57142857]\n"
     ]
    }
   ],
   "source": [
    "import numpy as np\n",
    "u = np.array([1, -2, 4])\n",
    "v = np.array([3, 5, 1])\n",
    "w = np.array([2, 1, -3])\n",
    "dotProd = np.dot(u,w)\n",
    "normSqr=np.linalg.norm(w)**2\n",
    "proj=(dotProd/normSqr)*w\n",
    "print(proj)"
   ]
  },
  {
   "cell_type": "markdown",
   "id": "3f8dd73f",
   "metadata": {},
   "source": [
    "# ================================================="
   ]
  },
  {
   "cell_type": "markdown",
   "id": "2b8a7f33",
   "metadata": {},
   "source": [
    "# 2."
   ]
  },
  {
   "cell_type": "markdown",
   "id": "ed6f7b0f",
   "metadata": {},
   "source": [
    "a. $3\\textbf{u}-2\\textbf{v}$<br>"
   ]
  },
  {
   "cell_type": "code",
   "execution_count": 25,
   "id": "c47641d2",
   "metadata": {},
   "outputs": [
    {
     "name": "stdout",
     "output_type": "stream",
     "text": [
      "[ -1   7 -22]\n"
     ]
    }
   ],
   "source": [
    "import numpy as np\n",
    "u = np.array([1, 3, -4])\n",
    "v = np.array([2, 1, 5])\n",
    "w = np.array([3,-2,6])\n",
    "print(3*u-2*v)"
   ]
  },
  {
   "cell_type": "markdown",
   "id": "9c4c4fe7",
   "metadata": {},
   "source": [
    "b. $5\\textbf{u}+3\\textbf{v}-4\\textbf{w}$<br>"
   ]
  },
  {
   "cell_type": "code",
   "execution_count": 26,
   "id": "26581fa3",
   "metadata": {},
   "outputs": [
    {
     "name": "stdout",
     "output_type": "stream",
     "text": [
      "[ -1  26 -29]\n"
     ]
    }
   ],
   "source": [
    "import numpy as np\n",
    "u = np.array([1, 3, -4])\n",
    "v = np.array([2, 1, 5])\n",
    "w = np.array([3,-2,6])\n",
    "print(5*u+3*v-4*w)"
   ]
  },
  {
   "cell_type": "markdown",
   "id": "c4e6d8c4",
   "metadata": {},
   "source": [
    "c. $\\textbf{u} \\cdotp \\textbf{v}$,$\\textbf{v} \\cdotp \\textbf{w}$, $\\textbf{u} \\cdotp \\textbf{w}$<br>"
   ]
  },
  {
   "cell_type": "code",
   "execution_count": 27,
   "id": "83e0a44a",
   "metadata": {},
   "outputs": [
    {
     "name": "stdout",
     "output_type": "stream",
     "text": [
      "-15\n",
      "34\n",
      "-27\n"
     ]
    }
   ],
   "source": [
    "import numpy as np\n",
    "u = np.array([1, 3, -4])\n",
    "v = np.array([2, 1, 5])\n",
    "w = np.array([3,-2,6])\n",
    "dotProdUV= np.dot(u,v)\n",
    "dotProdVW= np.dot(v,w)\n",
    "dotProdUW= np.dot(u,w)\n",
    "print(dotProdUV)\n",
    "print(dotProdVW)\n",
    "print(dotProdUW)"
   ]
  },
  {
   "cell_type": "markdown",
   "id": "929497cd",
   "metadata": {},
   "source": [
    "d. ||$\\textbf{u}||, ||$\\textbf{v}||, ||$\\textbf{w}$||<br>"
   ]
  },
  {
   "cell_type": "code",
   "execution_count": 28,
   "id": "895b7a67",
   "metadata": {},
   "outputs": [
    {
     "name": "stdout",
     "output_type": "stream",
     "text": [
      "5.0990195135927845\n",
      "5.477225575051661\n",
      "7.0\n"
     ]
    }
   ],
   "source": [
    "import numpy as np\n",
    "u = np.array([1, 3, -4])\n",
    "v = np.array([2, 1, 5])\n",
    "w = np.array([3,-2,6])\n",
    "normU= np.linalg.norm(u)\n",
    "normV= np.linalg.norm(v)\n",
    "normW= np.linalg.norm(w)\n",
    "print(normU)\n",
    "print(normV)\n",
    "print(normW)"
   ]
  },
  {
   "cell_type": "markdown",
   "id": "2bd4409f",
   "metadata": {},
   "source": [
    "e. If $\\theta$ is the angle between $\\textbf{u}$  and   $\\textbf{v}$, find $\\cos{\\theta}$.<br>"
   ]
  },
  {
   "cell_type": "code",
   "execution_count": 30,
   "id": "745d4d0d",
   "metadata": {},
   "outputs": [
    {
     "name": "stdout",
     "output_type": "stream",
     "text": [
      "-0.5370861555295747\n"
     ]
    }
   ],
   "source": [
    "import numpy as np\n",
    "u = np.array([1, 3, -4])\n",
    "v = np.array([2, 1, 5])\n",
    "w = np.array([3,-2,6])\n",
    "prodUV = np.dot(u,v)\n",
    "normU= np.linalg.norm(u)\n",
    "normV= np.linalg.norm(v)\n",
    "res= prodUV/(normU*normV)\n",
    "print(res)"
   ]
  },
  {
   "cell_type": "markdown",
   "id": "a6bb3b66",
   "metadata": {},
   "source": [
    "f. If $\\alpha$ is the angle between $\\textbf{v}$  and   $\\textbf{w}$, find $\\cos{\\alpha}$.<br>"
   ]
  },
  {
   "cell_type": "code",
   "execution_count": 32,
   "id": "50b860c7",
   "metadata": {},
   "outputs": [
    {
     "name": "stdout",
     "output_type": "stream",
     "text": [
      "0.8867889026274118\n"
     ]
    }
   ],
   "source": [
    "import numpy as np\n",
    "u = np.array([1, 3, -4])\n",
    "v = np.array([2, 1, 5])\n",
    "w = np.array([3,-2,6])\n",
    "prodVW = np.dot(v,w)\n",
    "normV= np.linalg.norm(v)\n",
    "normW= np.linalg.norm(w)\n",
    "res=prodVW/(normV*normW)\n",
    "print(res)"
   ]
  },
  {
   "cell_type": "markdown",
   "id": "e2701b2a",
   "metadata": {},
   "source": [
    "g. If $\\beta$ is the angle between $\\textbf{u}$  and   $\\textbf{w}$, find $\\cos{\\beta}$.<br>"
   ]
  },
  {
   "cell_type": "code",
   "execution_count": 33,
   "id": "fa93d749",
   "metadata": {},
   "outputs": [
    {
     "name": "stdout",
     "output_type": "stream",
     "text": [
      "-0.7564479498187099\n"
     ]
    }
   ],
   "source": [
    "import numpy as np\n",
    "u = np.array([1, 3, -4])\n",
    "v = np.array([2, 1, 5])\n",
    "w = np.array([3,-2,6])\n",
    "prodUW=np.dot(u,w)\n",
    "normW= np.linalg.norm(w)\n",
    "normU= np.linalg.norm(u)\n",
    "res= prodUW/(normW*normU)\n",
    "print(res)"
   ]
  },
  {
   "cell_type": "markdown",
   "id": "196bc4dd",
   "metadata": {},
   "source": [
    "h. Find $d(\\textbf{u},\\textbf{v})$.<br>"
   ]
  },
  {
   "cell_type": "code",
   "execution_count": 35,
   "id": "8d0b615a",
   "metadata": {},
   "outputs": [
    {
     "name": "stdout",
     "output_type": "stream",
     "text": [
      "9.273618495495704\n"
     ]
    }
   ],
   "source": [
    "import numpy as np\n",
    "u = np.array([1, 3, -4])\n",
    "v = np.array([2, 1, 5])\n",
    "w = np.array([3,-2,6])\n",
    "diff=u-v\n",
    "distance = np.linalg.norm(diff)\n",
    "print(distance)"
   ]
  },
  {
   "cell_type": "markdown",
   "id": "4fc70987",
   "metadata": {},
   "source": [
    "i. Find $d(\\textbf{w},\\textbf{v})$.<br>"
   ]
  },
  {
   "cell_type": "code",
   "execution_count": 36,
   "id": "2a04a584",
   "metadata": {},
   "outputs": [
    {
     "name": "stdout",
     "output_type": "stream",
     "text": [
      "3.3166247903554\n"
     ]
    }
   ],
   "source": [
    "import numpy as np\n",
    "u = np.array([1, 3, -4])\n",
    "v = np.array([2, 1, 5])\n",
    "w = np.array([3,-2,6])\n",
    "diff=w-v\n",
    "distance=np.linalg.norm(diff)\n",
    "print(distance)"
   ]
  },
  {
   "cell_type": "markdown",
   "id": "38eeb130",
   "metadata": {},
   "source": [
    "j. Find $d(\\textbf{u},\\textbf{w})$. <br>"
   ]
  },
  {
   "cell_type": "code",
   "execution_count": 37,
   "id": "a1816b55",
   "metadata": {},
   "outputs": [
    {
     "name": "stdout",
     "output_type": "stream",
     "text": [
      "11.357816691600547\n"
     ]
    }
   ],
   "source": [
    "import numpy as np\n",
    "u = np.array([1, 3, -4])\n",
    "v = np.array([2, 1, 5])\n",
    "w = np.array([3,-2,6])\n",
    "diff=u-w\n",
    "distance=np.linalg.norm(diff)\n",
    "print(distance)"
   ]
  },
  {
   "cell_type": "markdown",
   "id": "e67285fc",
   "metadata": {},
   "source": [
    "k. Find $proj(\\textbf{u},\\textbf{v})$.<br>"
   ]
  },
  {
   "cell_type": "code",
   "execution_count": 39,
   "id": "f4fbf2bc",
   "metadata": {},
   "outputs": [
    {
     "name": "stdout",
     "output_type": "stream",
     "text": [
      "[-1.  -0.5 -2.5]\n"
     ]
    }
   ],
   "source": [
    "import numpy as np\n",
    "u = np.array([1, 3, -4])\n",
    "v = np.array([2, 1, 5])\n",
    "w = np.array([3,-2,6])\n",
    "prodUV=np.dot(u,v)\n",
    "normSqrd=np.linalg.norm(v)**2\n",
    "proj=(prodUV/normSqrd)*v\n",
    "print(proj)"
   ]
  },
  {
   "cell_type": "markdown",
   "id": "afc270e4",
   "metadata": {},
   "source": [
    "l. Find $proj(\\textbf{w},\\textbf{v})$.<br>"
   ]
  },
  {
   "cell_type": "code",
   "execution_count": 40,
   "id": "dc23e7b0",
   "metadata": {},
   "outputs": [
    {
     "name": "stdout",
     "output_type": "stream",
     "text": [
      "[2.26666667 1.13333333 5.66666667]\n"
     ]
    }
   ],
   "source": [
    "import numpy as np\n",
    "u = np.array([1, 3, -4])\n",
    "v = np.array([2, 1, 5])\n",
    "w = np.array([3,-2,6])\n",
    "prodWV=np.dot(w,v)\n",
    "normSqrd=np.linalg.norm(v)**2\n",
    "proj=(prodWV/normSqrd)*v\n",
    "print(proj)"
   ]
  },
  {
   "cell_type": "code",
   "execution_count": null,
   "id": "ba60eb5b",
   "metadata": {},
   "outputs": [],
   "source": []
  },
  {
   "cell_type": "code",
   "execution_count": null,
   "id": "eda0a4a4",
   "metadata": {},
   "outputs": [],
   "source": []
  }
 ],
 "metadata": {
  "kernelspec": {
   "display_name": "Python 3 (ipykernel)",
   "language": "python",
   "name": "python3"
  },
  "language_info": {
   "codemirror_mode": {
    "name": "ipython",
    "version": 3
   },
   "file_extension": ".py",
   "mimetype": "text/x-python",
   "name": "python",
   "nbconvert_exporter": "python",
   "pygments_lexer": "ipython3",
   "version": "3.11.4"
  }
 },
 "nbformat": 4,
 "nbformat_minor": 5
}
