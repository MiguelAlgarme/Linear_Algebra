{
 "cells": [
  {
   "cell_type": "markdown",
   "id": "64e4074d",
   "metadata": {},
   "source": [
    "1. Let $\\textbf{u} = (1, -2, 4)$ and $\\textbf{v} = (3,5,1)$ $\\textbf{w} = (2,1,-3)$ find:<br>\n",
    "a. $3\\textbf{u}-2\\textbf{v}$<br>\n",
    "\n",
    "d. ||$\\textbf{u}||, ||$\\textbf{v}||, ||$\\textbf{w}$||<br>\n",
    "e. If $\\theta$ is the angle between $\\textbf{u}$  and   $\\textbf{v}$, find $\\cos{\\theta}$.<br>\n",
    "f. If $\\alpha$ is the angle between $\\textbf{v}$  and   $\\textbf{w}$, find $\\cos{\\alpha}$.<br>\n",
    "g. If $\\beta$ is the angle between $\\textbf{u}$  and   $\\textbf{w}$, find $\\cos{\\beta}$.<br>\n",
    "h. Find $d(\\textbf{u},\\textbf{v})$.<br>\n",
    "i. Find $d(\\textbf{w},\\textbf{v})$.<br>\n",
    "j. Find $d(\\textbf{u},\\textbf{w})$. <br>\n",
    "k. Find $proj(\\textbf{u},\\textbf{v})$.<br>\n",
    "l. Find $proj(\\textbf{w},\\textbf{v})$.<br>\n",
    "m. Find $proj(\\textbf{u},\\textbf{w})$. <br>  \n",
    "<br>\n",
    "<br>\n",
    "2. Repeat problem 1 with the following column vectors:\n",
    "\\begin{align}\n",
    "    \\textbf{u} &= \\begin{bmatrix}\n",
    "           1 \\\\\n",
    "           3 \\\\\n",
    "           -4\n",
    "         \\end{bmatrix}, \\textbf{v} = \\begin{bmatrix}\n",
    "           2 \\\\\n",
    "           1 \\\\\n",
    "           5\n",
    "         \\end{bmatrix}, \\textbf{w} = \\begin{bmatrix}\n",
    "           3 \\\\\n",
    "           -2 \\\\\n",
    "           6\n",
    "         \\end{bmatrix}\n",
    "  \\end{align}\n",
    "<br>\n",
    "<br>\n",
    "<br>\n",
    "3. Let $\\textbf{u} = (2,-5,4,6,-3)$, $\\textbf{v} = (5,-2,1,-7,-4)$, and $\\textbf{w} = (2,1,-3)$ find:<br>\n",
    "a. $4\\textbf{u}-3\\textbf{v}$<br>\n",
    "b. $5\\textbf{u}+2\\textbf{v}-2\\textbf{w}$<br>\n",
    "c. $\\textbf{u} \\cdotp \\textbf{v}$,$\\textbf{v} \\cdotp \\textbf{w}$, $\\textbf{u} \\cdotp \\textbf{w}$<br>\n",
    "d. ||$\\textbf{u}$||, ||$\\textbf{v}$||, ||$\\textbf{w}$||<br>\n",
    "e. If $\\theta$ is the angle between $\\textbf{u}$  and   $\\textbf{v}$, find $\\cos{\\theta}$.<br>\n",
    "f. If $\\alpha$ is the angle between $\\textbf{v}$  and   $\\textbf{w}$, find $\\cos{\\alpha}$.<br>\n",
    "g. If $\\beta$ is the angle between $\\textbf{u}$  and   $\\textbf{w}$, find $\\cos{\\beta}$.<br>\n",
    "h. Find $d(\\textbf{u},\\textbf{v})$.<br>\n",
    "i. Find $d(\\textbf{w},\\textbf{v})$.<br>\n",
    "j. Find $d(\\textbf{u},\\textbf{w})$. <br>\n",
    "k. Find $proj(\\textbf{u},\\textbf{v})$.<br>\n",
    "l. Find $proj(\\textbf{w},\\textbf{v})$.<br>\n",
    "m. Find $proj(\\textbf{u},\\textbf{w})$. <br> \n",
    "<br>\n",
    "<br>\n",
    "4. Normalize each vector:<br>\n",
    "a. $\\textbf{u}$ = (5,-7).<br>\n",
    "b. $\\textbf{v}$ = (1,2,-2,4).<br>\n",
    "c. $\\textbf{w} = (\\frac{1}{2},\\frac{-1}{3},\\frac{3}{4})$.<br>\n",
    "<br>\n",
    "<br>\n",
    "5. Let $\\textbf{u} = (1,2,-2)$,$\\textbf{v} = (3,-12,4)$ and a scalar $k = -3$: <br>\n",
    "Find $||u||, ||v||, ||u+v||, ||ku||$.<br>\n",
    "<br>\n",
    "<br>\n",
    "6. Find k so that $\\textbf{u}  \\ and \\  \\textbf{v}$ are orthogonal.\n",
    "a. $\\textbf{u} = (3, k, -2), \\textbf{v} = (6, -4, -3)$.<br>\n",
    "b. $\\textbf{u} = (5,k,-4,2), \\textbf{v} = (1,-3,2,2k)$.<br>\n",
    "c. $\\textbf{u} = (1,7,k+2,-2), \\textbf{v} = (3, k, -3,k)$.<br>"
   ]
  },
  {
   "cell_type": "markdown",
   "id": "275d599b",
   "metadata": {},
   "source": [
    "1. Let $\\textbf{u} = (1, -2, 4)$ and $\\textbf{v} = (3,5,1)$ $\\textbf{w} = (2,1,-3)$ find:<br>\n",
    "a. $3\\textbf{u}-2\\textbf{v}$<br>"
   ]
  },
  {
   "cell_type": "markdown",
   "id": "180e9a6d",
   "metadata": {},
   "source": [
    "**1.a. Answer**\n",
    "$$\n",
    "\\begin{align}\n",
    "    3\\textbf{u} - 2\\textbf{v} &= (3(1), 3(-2), 3(4)) &- (2(3), 2(5), 2(1)) \\\\\n",
    "        &= (3,-6, 12) &- (6, 10, 2) \\\\\n",
    "        &&= (-3, -16, 10)\n",
    "\\end{align}\n",
    "$$\n"
   ]
  },
  {
   "cell_type": "code",
   "execution_count": 39,
   "id": "92e1ce7a",
   "metadata": {},
   "outputs": [
    {
     "name": "stdout",
     "output_type": "stream",
     "text": [
      "3(1), 3(-2), 3(4) [ 3 -6 12]\n",
      "2(3), 2(5), 2(1) [ 6 10  2]\n",
      "Answer: [ -3 -16  10]\n"
     ]
    }
   ],
   "source": [
    "import numpy as np\n",
    "u = np.array([1,-2,4])\n",
    "v = np.array([3,5,1])\n",
    "print(\"3(1), 3(-2), 3(4)\",u*3)\n",
    "print(\"2(3), 2(5), 2(1)\",v*2)\n",
    "print(\"Answer:\",u*3 - v*2)"
   ]
  },
  {
   "cell_type": "markdown",
   "id": "b3a8d161",
   "metadata": {},
   "source": [
    "1.b. $5\\textbf{u}+3\\textbf{v}-4\\textbf{w}$<br>"
   ]
  },
  {
   "cell_type": "markdown",
   "id": "b4d90df8",
   "metadata": {},
   "source": [
    "Let $\\textbf{u} = (1, -2, 4)$ and $\\textbf{v} = (3,5,1)$ $\\textbf{w} = (2,1,-3)$ find:<br>\n",
    "$$\n",
    "\\begin{align}\n",
    "    5\\textbf{u} + 3\\textbf{v} - 4\\textbf{w} &= (5(1), 5(-2), 5(4)) + (3(3), 3(5), 3(1)) - (4(2), 4(1), 4(-3)) \\\\\n",
    "        &= (5, -10, 20) + (9, 15, 3) - (8, 4, -12) \\\\\n",
    "        &= (6, 1, 35)\n",
    "\\end{align}\n",
    "$$"
   ]
  },
  {
   "cell_type": "code",
   "execution_count": 30,
   "id": "6dc9a801",
   "metadata": {},
   "outputs": [
    {
     "name": "stdout",
     "output_type": "stream",
     "text": [
      "5(1),5(−2),5(4) [  5 -10  20]\n",
      "3(3),3(5),3(1) [ 9 15  3]\n",
      "4(2),4(1),4(−3) [  8   4 -12]\n",
      "u + v - w\n",
      "ANSWER: [ 6  1 35]\n"
     ]
    }
   ],
   "source": [
    "u = np.array([1,-2,4])\n",
    "v = np.array([3,5,1])\n",
    "w = np.array([2,1,-3])\n",
    "print(\"5(1),5(−2),5(4)\", u*5)\n",
    "print(\"3(3),3(5),3(1)\", v*3)\n",
    "print(\"4(2),4(1),4(−3)\", w*4)\n",
    "print(\"u + v - w\")\n",
    "print(\"ANSWER:\", u*5+v*3-w*4)"
   ]
  },
  {
   "cell_type": "markdown",
   "id": "c5f1d7a9",
   "metadata": {},
   "source": [
    "1.c. $\\textbf{u} \\cdotp \\textbf{v}$,$\\textbf{v} \\cdotp \\textbf{w}$, $\\textbf{u} \\cdotp \\textbf{w}$<br>\n",
    "Let $\\textbf{u} = (1, -2, 4)$ and $\\textbf{v} = (3,5,1)$ $\\textbf{w} = (2,1,-3)$ find:<br>\n",
    "$$\n",
    "   \\begin{align*}\n",
    "       \\mathbf{u} \\cdot \\mathbf{v} &= (1)(3) + (-2)(5) + (4)(1) \\\\\n",
    "       &= 3 - 10 + 4 \\\\\n",
    "       &= -3\n",
    "   \\end{align*}\n",
    " $$\n",
    "\n",
    "$$\n",
    "   \\begin{align*}\n",
    "       \\mathbf{v} \\cdot \\mathbf{w} &= (3)(2) + (5)(1) + (1)(-3) \\\\\n",
    "       &= 6 + 5 - 3 \\\\\n",
    "       &= 8\n",
    "   \\end{align*}\n",
    "$$\n",
    "$$\n",
    "   \\begin{align*}\n",
    "       \\mathbf{u} \\cdot \\mathbf{w} &= (1)(2) + (-2)(1) + (4)(-3) \\\\\n",
    "       &= 2 - 2 - 12 \\\\\n",
    "       &= -12\n",
    "   \\end{align*}\n",
    "$$"
   ]
  },
  {
   "cell_type": "code",
   "execution_count": 38,
   "id": "f2d0e3dd",
   "metadata": {},
   "outputs": [
    {
     "name": "stdout",
     "output_type": "stream",
     "text": [
      "u dot v = -3\n",
      "v dot w = 8\n",
      "u dot w = -12\n"
     ]
    }
   ],
   "source": [
    "u = np.array([1,-2,4])\n",
    "v = np.array([3,5,1])\n",
    "w = np.array([2,1,-3])\n",
    "\n",
    "uvdot = np.dot(u, v)\n",
    "vwdot = np.dot(v, w)\n",
    "uwdot = np.dot(u, w)\n",
    "\n",
    "print(\"u dot v =\", uvdot)\n",
    "print(\"v dot w =\", vwdot)\n",
    "print(\"u dot w =\", uwdot)"
   ]
  }
 ],
 "metadata": {
  "kernelspec": {
   "display_name": "Python 3 (ipykernel)",
   "language": "python",
   "name": "python3"
  },
  "language_info": {
   "codemirror_mode": {
    "name": "ipython",
    "version": 3
   },
   "file_extension": ".py",
   "mimetype": "text/x-python",
   "name": "python",
   "nbconvert_exporter": "python",
   "pygments_lexer": "ipython3",
   "version": "3.11.4"
  }
 },
 "nbformat": 4,
 "nbformat_minor": 5
}
